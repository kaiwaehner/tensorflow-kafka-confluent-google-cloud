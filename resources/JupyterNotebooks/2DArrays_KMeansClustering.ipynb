{
 "cells": [
  {
   "cell_type": "code",
   "execution_count": 1,
   "metadata": {
    "collapsed": true
   },
   "outputs": [],
   "source": [
    "from __future__ import absolute_import\n",
    "from __future__ import division\n",
    "from __future__ import print_function"
   ]
  },
  {
   "cell_type": "code",
   "execution_count": 2,
   "metadata": {
    "collapsed": true
   },
   "outputs": [],
   "source": [
    "import numpy as np\n",
    "import matplotlib as mp\n",
    "import matplotlib.pyplot as plt\n",
    "import tensorflow as tf"
   ]
  },
  {
   "cell_type": "code",
   "execution_count": 3,
   "metadata": {
    "collapsed": true
   },
   "outputs": [],
   "source": [
    "%matplotlib inline\n",
    "\n",
    "import matplotlib\n",
    "import matplotlib.pyplot as plt"
   ]
  },
  {
   "cell_type": "code",
   "execution_count": 4,
   "metadata": {
    "collapsed": false
   },
   "outputs": [
    {
     "name": "stdout",
     "output_type": "stream",
     "text": [
      "1.4.1\n",
      "1.13.3\n",
      "2.0.2\n"
     ]
    }
   ],
   "source": [
    "print(tf.__version__)\n",
    "print(np.__version__)\n",
    "print(matplotlib.__version__)"
   ]
  },
  {
   "cell_type": "code",
   "execution_count": 6,
   "metadata": {
    "collapsed": false
   },
   "outputs": [],
   "source": [
    "import random\n",
    "\n",
    "input_2d_x_1 = np.array([[random.randint(1, 1000) for i in range(2)] for j in range(100)], dtype=np.float32)\n",
    "input_2d_x_2 = np.array([[random.randint(700, 2000) for i in range(2)] for j in range(100)], dtype=np.float32)\n",
    "input_2d_x_3 = np.array([[random.randint(1700, 3000) for i in range(2)] for j in range(100)], dtype=np.float32)\n",
    "\n",
    "input_2d_x = np.append(np.append(input_2d_x_1, input_2d_x_2, axis=0), input_2d_x_3, axis=0)\n"
   ]
  },
  {
   "cell_type": "code",
   "execution_count": 7,
   "metadata": {
    "collapsed": false
   },
   "outputs": [
    {
     "data": {
      "text/plain": [
       "array([[   78.,   889.],\n",
       "       [  720.,   991.],\n",
       "       [  846.,   255.],\n",
       "       [  853.,   149.],\n",
       "       [  939.,   415.],\n",
       "       [  872.,   233.],\n",
       "       [  779.,   896.],\n",
       "       [  577.,   174.],\n",
       "       [  732.,   729.],\n",
       "       [  527.,   225.],\n",
       "       [  131.,   241.],\n",
       "       [  810.,   116.],\n",
       "       [  737.,   691.],\n",
       "       [  462.,   877.],\n",
       "       [  246.,   960.],\n",
       "       [  160.,   661.],\n",
       "       [  184.,   549.],\n",
       "       [  290.,   349.],\n",
       "       [  705.,   345.],\n",
       "       [  336.,   660.],\n",
       "       [  429.,   906.],\n",
       "       [  982.,   966.],\n",
       "       [  852.,   775.],\n",
       "       [  358.,   313.],\n",
       "       [  350.,   867.],\n",
       "       [  610.,     4.],\n",
       "       [   21.,   151.],\n",
       "       [  275.,   128.],\n",
       "       [  401.,   840.],\n",
       "       [  618.,   240.],\n",
       "       [  768.,   466.],\n",
       "       [  521.,   170.],\n",
       "       [  985.,   314.],\n",
       "       [   28.,   910.],\n",
       "       [  723.,   535.],\n",
       "       [  811.,   615.],\n",
       "       [  980.,    10.],\n",
       "       [  774.,   379.],\n",
       "       [  734.,   236.],\n",
       "       [  431.,   135.],\n",
       "       [  887.,   650.],\n",
       "       [  144.,   549.],\n",
       "       [  586.,   636.],\n",
       "       [  612.,    48.],\n",
       "       [  541.,   283.],\n",
       "       [  634.,   897.],\n",
       "       [  538.,    55.],\n",
       "       [  608.,   357.],\n",
       "       [  650.,   475.],\n",
       "       [  924.,   240.],\n",
       "       [  595.,   784.],\n",
       "       [  743.,   382.],\n",
       "       [  466.,   437.],\n",
       "       [  898.,   861.],\n",
       "       [  988.,   355.],\n",
       "       [  584.,   481.],\n",
       "       [  441.,    99.],\n",
       "       [  849.,   279.],\n",
       "       [  467.,   128.],\n",
       "       [  996.,   489.],\n",
       "       [  604.,   411.],\n",
       "       [  511.,   867.],\n",
       "       [  807.,   744.],\n",
       "       [  904.,   524.],\n",
       "       [   97.,   298.],\n",
       "       [  729.,   583.],\n",
       "       [  544.,   690.],\n",
       "       [  366.,   556.],\n",
       "       [  949.,   883.],\n",
       "       [   37.,   832.],\n",
       "       [  931.,   945.],\n",
       "       [  848.,   148.],\n",
       "       [  807.,   133.],\n",
       "       [   28.,   371.],\n",
       "       [  107.,   592.],\n",
       "       [   70.,   985.],\n",
       "       [  756.,   980.],\n",
       "       [  746.,    27.],\n",
       "       [  692.,   943.],\n",
       "       [  647.,   545.],\n",
       "       [  545.,   472.],\n",
       "       [  349.,   736.],\n",
       "       [  786.,   512.],\n",
       "       [  934.,   244.],\n",
       "       [  307.,   565.],\n",
       "       [  169.,   697.],\n",
       "       [   26.,   588.],\n",
       "       [  866.,    69.],\n",
       "       [  617.,   137.],\n",
       "       [  347.,   514.],\n",
       "       [  572.,   294.],\n",
       "       [  233.,   752.],\n",
       "       [  598.,   267.],\n",
       "       [  582.,   428.],\n",
       "       [  430.,   453.],\n",
       "       [  243.,   488.],\n",
       "       [  799.,   172.],\n",
       "       [  534.,   699.],\n",
       "       [  362.,   982.],\n",
       "       [  963.,   451.],\n",
       "       [ 1256.,  1914.],\n",
       "       [  737.,   755.],\n",
       "       [ 1630.,  1749.],\n",
       "       [ 1392.,  1530.],\n",
       "       [ 1339.,  1934.],\n",
       "       [ 1532.,  1470.],\n",
       "       [  871.,  1982.],\n",
       "       [ 1282.,  1504.],\n",
       "       [ 1117.,  1184.],\n",
       "       [ 1647.,  1302.],\n",
       "       [ 1104.,  2000.],\n",
       "       [ 1382.,   978.],\n",
       "       [ 1410.,   990.],\n",
       "       [ 1720.,  1265.],\n",
       "       [ 1399.,  1929.],\n",
       "       [ 1769.,  1271.],\n",
       "       [  908.,  1036.],\n",
       "       [ 1869.,  1843.],\n",
       "       [ 1410.,  1881.],\n",
       "       [  767.,  1503.],\n",
       "       [ 1269.,  1027.],\n",
       "       [ 1318.,  1778.],\n",
       "       [ 1866.,  1962.],\n",
       "       [ 1049.,  1049.],\n",
       "       [ 1076.,  1655.],\n",
       "       [  802.,  1000.],\n",
       "       [ 1721.,  1452.],\n",
       "       [  719.,  1230.],\n",
       "       [ 1541.,  1654.],\n",
       "       [  802.,  1740.],\n",
       "       [ 1922.,  1968.],\n",
       "       [ 1206.,   784.],\n",
       "       [ 1317.,  1743.],\n",
       "       [ 1212.,  1141.],\n",
       "       [  953.,  1742.],\n",
       "       [ 1093.,  1264.],\n",
       "       [ 1373.,  1652.],\n",
       "       [ 1107.,  1383.],\n",
       "       [  742.,  1038.],\n",
       "       [ 1037.,   922.],\n",
       "       [ 1618.,   702.],\n",
       "       [  727.,  1489.],\n",
       "       [ 1858.,  1455.],\n",
       "       [ 1483.,   890.],\n",
       "       [  831.,  1420.],\n",
       "       [ 1724.,  1501.],\n",
       "       [ 1810.,  1744.],\n",
       "       [ 1060.,  1596.],\n",
       "       [ 1040.,   762.],\n",
       "       [ 1252.,  1237.],\n",
       "       [ 1350.,   773.],\n",
       "       [ 1926.,  1664.],\n",
       "       [ 1648.,  1195.],\n",
       "       [ 1090.,   968.],\n",
       "       [ 1713.,  1197.],\n",
       "       [ 1915.,   848.],\n",
       "       [ 1095.,  1174.],\n",
       "       [  836.,  1971.],\n",
       "       [ 1683.,   734.],\n",
       "       [ 1745.,   864.],\n",
       "       [ 1898.,  1778.],\n",
       "       [ 1834.,  2000.],\n",
       "       [ 1982.,  1745.],\n",
       "       [ 1837.,  1734.],\n",
       "       [ 1865.,  1749.],\n",
       "       [ 1872.,  1013.],\n",
       "       [  849.,   904.],\n",
       "       [ 1048.,  1381.],\n",
       "       [ 1215.,  1970.],\n",
       "       [ 1465.,  1143.],\n",
       "       [  795.,  1628.],\n",
       "       [ 1140.,  1565.],\n",
       "       [ 1800.,   810.],\n",
       "       [ 1177.,  1553.],\n",
       "       [ 1155.,  1936.],\n",
       "       [ 1922.,  1221.],\n",
       "       [  957.,   912.],\n",
       "       [ 1011.,   745.],\n",
       "       [ 1568.,   882.],\n",
       "       [ 1374.,  1010.],\n",
       "       [ 1887.,  1221.],\n",
       "       [ 1534.,  1492.],\n",
       "       [ 1764.,  1721.],\n",
       "       [ 1057.,  1785.],\n",
       "       [ 1587.,  1386.],\n",
       "       [  977.,  1522.],\n",
       "       [  735.,  1486.],\n",
       "       [  833.,  1857.],\n",
       "       [  891.,  1176.],\n",
       "       [ 1459.,   979.],\n",
       "       [ 1511.,   800.],\n",
       "       [ 1421.,  2000.],\n",
       "       [ 1939.,  1861.],\n",
       "       [ 1500.,  1526.],\n",
       "       [ 1494.,  1976.],\n",
       "       [ 1632.,  1629.],\n",
       "       [  980.,  1651.],\n",
       "       [ 1993.,  1087.],\n",
       "       [  720.,  1193.],\n",
       "       [  840.,  1381.],\n",
       "       [ 2324.,  2450.],\n",
       "       [ 2461.,  2601.],\n",
       "       [ 2334.,  2469.],\n",
       "       [ 1998.,  2637.],\n",
       "       [ 2454.,  2716.],\n",
       "       [ 2349.,  1878.],\n",
       "       [ 1862.,  1784.],\n",
       "       [ 2132.,  2189.],\n",
       "       [ 2636.,  2803.],\n",
       "       [ 1927.,  2206.],\n",
       "       [ 2238.,  2145.],\n",
       "       [ 2463.,  1905.],\n",
       "       [ 2076.,  2049.],\n",
       "       [ 2502.,  2023.],\n",
       "       [ 1948.,  1997.],\n",
       "       [ 2080.,  1747.],\n",
       "       [ 2055.,  2102.],\n",
       "       [ 2952.,  1745.],\n",
       "       [ 2986.,  2423.],\n",
       "       [ 2688.,  2347.],\n",
       "       [ 2085.,  2041.],\n",
       "       [ 2087.,  2206.],\n",
       "       [ 2440.,  2260.],\n",
       "       [ 2319.,  2758.],\n",
       "       [ 1818.,  2038.],\n",
       "       [ 1784.,  1807.],\n",
       "       [ 2992.,  2890.],\n",
       "       [ 2475.,  1783.],\n",
       "       [ 2353.,  2132.],\n",
       "       [ 2027.,  2102.],\n",
       "       [ 2610.,  2286.],\n",
       "       [ 2480.,  2793.],\n",
       "       [ 1828.,  2262.],\n",
       "       [ 2619.,  2285.],\n",
       "       [ 2477.,  2586.],\n",
       "       [ 2992.,  2200.],\n",
       "       [ 2558.,  1809.],\n",
       "       [ 2224.,  1941.],\n",
       "       [ 2668.,  2798.],\n",
       "       [ 1928.,  2760.],\n",
       "       [ 2718.,  1962.],\n",
       "       [ 2298.,  2049.],\n",
       "       [ 1773.,  2915.],\n",
       "       [ 2219.,  1800.],\n",
       "       [ 2817.,  2330.],\n",
       "       [ 1824.,  2331.],\n",
       "       [ 2102.,  2853.],\n",
       "       [ 2243.,  2584.],\n",
       "       [ 1956.,  2725.],\n",
       "       [ 2299.,  2004.],\n",
       "       [ 1841.,  2011.],\n",
       "       [ 2813.,  2974.],\n",
       "       [ 2148.,  2892.],\n",
       "       [ 1829.,  2284.],\n",
       "       [ 2806.,  2404.],\n",
       "       [ 2960.,  2640.],\n",
       "       [ 2891.,  2515.],\n",
       "       [ 2812.,  2531.],\n",
       "       [ 1802.,  2393.],\n",
       "       [ 2564.,  2439.],\n",
       "       [ 2136.,  2105.],\n",
       "       [ 1945.,  1936.],\n",
       "       [ 2229.,  1829.],\n",
       "       [ 2893.,  2199.],\n",
       "       [ 2084.,  2695.],\n",
       "       [ 2641.,  2847.],\n",
       "       [ 2119.,  1718.],\n",
       "       [ 2326.,  2309.],\n",
       "       [ 2404.,  2874.],\n",
       "       [ 1849.,  1822.],\n",
       "       [ 2664.,  1791.],\n",
       "       [ 2421.,  1706.],\n",
       "       [ 1824.,  2260.],\n",
       "       [ 2322.,  2708.],\n",
       "       [ 2020.,  2830.],\n",
       "       [ 2698.,  1789.],\n",
       "       [ 2364.,  2754.],\n",
       "       [ 2261.,  1862.],\n",
       "       [ 1900.,  2208.],\n",
       "       [ 1772.,  2487.],\n",
       "       [ 2815.,  2997.],\n",
       "       [ 2769.,  2321.],\n",
       "       [ 2623.,  1749.],\n",
       "       [ 1793.,  2093.],\n",
       "       [ 2752.,  2988.],\n",
       "       [ 2213.,  1943.],\n",
       "       [ 2832.,  2904.],\n",
       "       [ 2540.,  2287.],\n",
       "       [ 2663.,  2377.],\n",
       "       [ 2037.,  2784.],\n",
       "       [ 2214.,  1708.],\n",
       "       [ 2552.,  2407.],\n",
       "       [ 2995.,  1980.],\n",
       "       [ 2752.,  2489.],\n",
       "       [ 2390.,  2250.],\n",
       "       [ 2110.,  2649.],\n",
       "       [ 2773.,  2654.],\n",
       "       [ 1761.,  1758.],\n",
       "       [ 2800.,  1738.],\n",
       "       [ 1830.,  2109.]], dtype=float32)"
      ]
     },
     "execution_count": 7,
     "metadata": {},
     "output_type": "execute_result"
    }
   ],
   "source": [
    "input_2d_x"
   ]
  },
  {
   "cell_type": "code",
   "execution_count": 8,
   "metadata": {
    "collapsed": true
   },
   "outputs": [],
   "source": [
    "def input_fn_2d(input_2d):\n",
    "    input_t = tf.convert_to_tensor(input_2d, dtype=tf.float32)\n",
    "    \n",
    "    return (input_t, None)"
   ]
  },
  {
   "cell_type": "code",
   "execution_count": 9,
   "metadata": {
    "collapsed": false
   },
   "outputs": [
    {
     "data": {
      "image/png": "[encoded data removed]",
      "text/plain": [
       "<matplotlib.figure.Figure at 0x114bab310>"
      ]
     },
     "metadata": {},
     "output_type": "display_data"
    }
   ],
   "source": [
    "plt.scatter(input_2d_x[:,0], input_2d_x[:,1], s=100, color=\"green\")\n",
    "plt.show()"
   ]
  },
  {
   "cell_type": "code",
   "execution_count": 10,
   "metadata": {
    "collapsed": true
   },
   "outputs": [],
   "source": [
    "from tensorflow.contrib.learn.python.learn.estimators import kmeans\n",
    "\n",
    "from tensorflow.contrib.factorization.python.ops import clustering_ops"
   ]
  },
  {
   "cell_type": "code",
   "execution_count": 11,
   "metadata": {
    "collapsed": false
   },
   "outputs": [
    {
     "name": "stdout",
     "output_type": "stream",
     "text": [
      "INFO:tensorflow:Using default config.\n",
      "WARNING:tensorflow:Using temporary folder as model directory: /var/folders/yd/1rlyjfk975d3bb98d7_nyt740000gn/T/tmpgfoWyl\n",
      "INFO:tensorflow:Using config: {'_save_checkpoints_secs': 600, '_num_ps_replicas': 0, '_keep_checkpoint_max': 5, '_task_type': None, '_is_chief': True, '_cluster_spec': <tensorflow.python.training.server_lib.ClusterSpec object at 0x116768190>, '_model_dir': '/var/folders/yd/1rlyjfk975d3bb98d7_nyt740000gn/T/tmpgfoWyl', '_save_checkpoints_steps': None, '_keep_checkpoint_every_n_hours': 10000, '_session_config': None, '_tf_random_seed': None, '_save_summary_steps': 100, '_environment': 'local', '_num_worker_replicas': 0, '_task_id': 0, '_log_step_count_steps': 100, '_tf_config': gpu_options {\n",
      "  per_process_gpu_memory_fraction: 1\n",
      "}\n",
      ", '_evaluation_master': '', '_master': ''}\n"
     ]
    }
   ],
   "source": [
    "k_means_estimator = kmeans.KMeansClustering(num_clusters=3)"
   ]
  },
  {
   "cell_type": "code",
   "execution_count": 12,
   "metadata": {
    "collapsed": false
   },
   "outputs": [
    {
     "name": "stdout",
     "output_type": "stream",
     "text": [
      "WARNING:tensorflow:From /usr/local/lib/python2.7/site-packages/tensorflow/contrib/learn/python/learn/estimators/kmeans.py:120: get_global_step (from tensorflow.contrib.framework.python.ops.variables) is deprecated and will be removed in a future version.\n",
      "Instructions for updating:\n",
      "Please switch to tf.train.get_global_step\n",
      "INFO:tensorflow:Create CheckpointSaverHook.\n",
      "INFO:tensorflow:Saving checkpoints for 1 into /var/folders/yd/1rlyjfk975d3bb98d7_nyt740000gn/T/tmpgfoWyl/model.ckpt.\n",
      "INFO:tensorflow:loss = 2.41401e+08, step = 1\n",
      "INFO:tensorflow:global_step/sec: 1248.38\n",
      "INFO:tensorflow:loss = 6.93713e+07, step = 101 (0.082 sec)\n",
      "INFO:tensorflow:global_step/sec: 1394.19\n",
      "INFO:tensorflow:loss = 6.91e+07, step = 201 (0.071 sec)\n",
      "INFO:tensorflow:global_step/sec: 1306.45\n",
      "INFO:tensorflow:loss = 6.90338e+07, step = 301 (0.078 sec)\n",
      "INFO:tensorflow:global_step/sec: 1313.96\n",
      "INFO:tensorflow:loss = 6.89941e+07, step = 401 (0.075 sec)\n",
      "INFO:tensorflow:global_step/sec: 1248.86\n",
      "INFO:tensorflow:loss = 6.89757e+07, step = 501 (0.080 sec)\n",
      "INFO:tensorflow:global_step/sec: 1319.28\n",
      "INFO:tensorflow:loss = 6.89657e+07, step = 601 (0.076 sec)\n",
      "INFO:tensorflow:global_step/sec: 1312.45\n",
      "INFO:tensorflow:loss = 6.89598e+07, step = 701 (0.076 sec)\n",
      "INFO:tensorflow:global_step/sec: 1231.89\n",
      "INFO:tensorflow:loss = 6.89558e+07, step = 801 (0.082 sec)\n",
      "INFO:tensorflow:global_step/sec: 1347.23\n",
      "INFO:tensorflow:loss = 6.8949e+07, step = 901 (0.073 sec)\n",
      "INFO:tensorflow:Saving checkpoints for 1000 into /var/folders/yd/1rlyjfk975d3bb98d7_nyt740000gn/T/tmpgfoWyl/model.ckpt.\n",
      "INFO:tensorflow:Loss for final step: 6.89424e+07.\n"
     ]
    }
   ],
   "source": [
    "fit = k_means_estimator.fit(input_fn=lambda: input_fn_2d(input_2d_x), steps=1000)"
   ]
  },
  {
   "cell_type": "code",
   "execution_count": 13,
   "metadata": {
    "collapsed": false
   },
   "outputs": [
    {
     "data": {
      "text/plain": [
       "array([[ 2322.67016602,  2278.35668945],\n",
       "       [ 1346.2244873 ,  1405.44970703],\n",
       "       [  587.76794434,   513.92419434]], dtype=float32)"
      ]
     },
     "execution_count": 13,
     "metadata": {},
     "output_type": "execute_result"
    }
   ],
   "source": [
    "clusters_2d = k_means_estimator.clusters()\n",
    "clusters_2d"
   ]
  },
  {
   "cell_type": "code",
   "execution_count": 14,
   "metadata": {
    "collapsed": false
   },
   "outputs": [
    {
     "data": {
      "image/png": "[encoded data removed]",
      "text/plain": [
       "<matplotlib.figure.Figure at 0x11735f310>"
      ]
     },
     "metadata": {},
     "output_type": "display_data"
    }
   ],
   "source": [
    "fig = plt.figure()\n",
    "ax1 = fig.add_subplot(111)\n",
    "\n",
    "ax1.scatter(input_2d_x[:,0], input_2d_x[:,1], s=100, marker='o', color=\"green\")\n",
    "ax1.scatter(clusters_2d[:,0], clusters_2d[:,1], c='r', s=300, marker='s')\n",
    "\n",
    "plt.show()"
   ]
  },
  {
   "cell_type": "code",
   "execution_count": 15,
   "metadata": {
    "collapsed": false
   },
   "outputs": [
    {
     "data": {
      "text/plain": [
       "{'params': {'distance_metric': 'squared_euclidean',\n",
       "  'kmeans_plus_plus_num_retries': 2,\n",
       "  'mini_batch_steps_per_iteration': 1,\n",
       "  'num_clusters': 3,\n",
       "  'random_seed': 0,\n",
       "  'relative_tolerance': None,\n",
       "  'training_initial_clusters': 'random',\n",
       "  'use_mini_batch': True}}"
      ]
     },
     "execution_count": 15,
     "metadata": {},
     "output_type": "execute_result"
    }
   ],
   "source": [
    "k_means_estimator.get_params()"
   ]
  },
  {
   "cell_type": "code",
   "execution_count": 16,
   "metadata": {
    "collapsed": true
   },
   "outputs": [],
   "source": [
    "ex_2d_x = np.array([[1700, 1700]], dtype=np.float32)"
   ]
  },
  {
   "cell_type": "code",
   "execution_count": 17,
   "metadata": {
    "collapsed": false
   },
   "outputs": [
    {
     "name": "stdout",
     "output_type": "stream",
     "text": [
      "WARNING:tensorflow:From <ipython-input-17-1726f6f4c805>:1: calling predict (from tensorflow.contrib.learn.python.learn.estimators.estimator) with as_iterable is deprecated and will be removed after 2016-12-01.\n",
      "Instructions for updating:\n",
      "Estimator is decoupled from Scikit Learn interface by moving into\n",
      "separate class SKCompat. Arguments x, y and batch_size are only\n",
      "available in the SKCompat class, Estimator will only accept input_fn.\n",
      "Example conversion:\n",
      "  est = Estimator(...) -> est = SKCompat(Estimator(...))\n",
      "INFO:tensorflow:Restoring parameters from /var/folders/yd/1rlyjfk975d3bb98d7_nyt740000gn/T/tmpgfoWyl/model.ckpt-1000\n"
     ]
    }
   ],
   "source": [
    "predict = k_means_estimator.predict(input_fn=lambda: input_fn_2d(ex_2d_x), as_iterable=False)"
   ]
  },
  {
   "cell_type": "code",
   "execution_count": 18,
   "metadata": {
    "collapsed": false
   },
   "outputs": [
    {
     "data": {
      "text/plain": [
       "{'all_scores': array([[  722215.  ,   211917.25,  2643836.  ]], dtype=float32),\n",
       " 'cluster_idx': 1}"
      ]
     },
     "execution_count": 18,
     "metadata": {},
     "output_type": "execute_result"
    }
   ],
   "source": [
    "predict"
   ]
  },
  {
   "cell_type": "code",
   "execution_count": null,
   "metadata": {
    "collapsed": true
   },
   "outputs": [],
   "source": []
  },
  {
   "cell_type": "code",
   "execution_count": null,
   "metadata": {
    "collapsed": true
   },
   "outputs": [],
   "source": []
  }
 ],
 "metadata": {
  "kernelspec": {
   "display_name": "Python 2",
   "language": "python",
   "name": "python2"
  },
  "language_info": {
   "codemirror_mode": {
    "name": "ipython",
    "version": 2
   },
   "file_extension": ".py",
   "mimetype": "text/x-python",
   "name": "python",
   "nbconvert_exporter": "python",
   "pygments_lexer": "ipython2",
   "version": "2.7.11"
  }
 },
 "nbformat": 4,
 "nbformat_minor": 2
}
