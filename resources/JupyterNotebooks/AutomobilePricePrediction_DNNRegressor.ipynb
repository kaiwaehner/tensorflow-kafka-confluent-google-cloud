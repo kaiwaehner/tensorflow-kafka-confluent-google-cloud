{
 "cells": [
  {
   "cell_type": "code",
   "execution_count": 1,
   "metadata": {
    "collapsed": true
   },
   "outputs": [],
   "source": [
    "from __future__ import absolute_import\n",
    "from __future__ import division\n",
    "from __future__ import print_function"
   ]
  },
  {
   "cell_type": "code",
   "execution_count": 2,
   "metadata": {
    "collapsed": true
   },
   "outputs": [],
   "source": [
    "import os\n",
    "import collections\n",
    "import itertools"
   ]
  },
  {
   "cell_type": "code",
   "execution_count": 3,
   "metadata": {
    "collapsed": true
   },
   "outputs": [],
   "source": [
    "import numpy as np\n",
    "import pandas as pd\n",
    "import tensorflow as tf"
   ]
  },
  {
   "cell_type": "code",
   "execution_count": 4,
   "metadata": {
    "collapsed": true
   },
   "outputs": [],
   "source": [
    "from six.moves import urllib"
   ]
  },
  {
   "cell_type": "code",
   "execution_count": 5,
   "metadata": {
    "collapsed": false
   },
   "outputs": [
    {
     "name": "stdout",
     "output_type": "stream",
     "text": [
      "1.13.3\n",
      "0.20.1\n",
      "1.4.1\n"
     ]
    }
   ],
   "source": [
    "print(np.__version__)\n",
    "print(pd.__version__)\n",
    "print(tf.__version__)"
   ]
  },
  {
   "cell_type": "code",
   "execution_count": 6,
   "metadata": {
    "collapsed": true
   },
   "outputs": [],
   "source": [
    "URL_PATH = \"https://archive.ics.uci.edu/ml/machine-learning-databases/autos/imports-85.data\"\n",
    "\n",
    "DOWNLOADED_FILENAME = \"automobiles.csv\"\n",
    "\n",
    "def download_data():\n",
    "    if not os.path.exists(DOWNLOADED_FILENAME):\n",
    "        filename, _ = urllib.request.urlretrieve(URL_PATH, DOWNLOADED_FILENAME)\n",
    "\n",
    "    print('Found and verified file from this path: ', URL_PATH)\n",
    "    print('Downloaded file: ', DOWNLOADED_FILENAME)        "
   ]
  },
  {
   "cell_type": "code",
   "execution_count": 7,
   "metadata": {
    "collapsed": false
   },
   "outputs": [
    {
     "name": "stdout",
     "output_type": "stream",
     "text": [
      "Found and verified file from this path:  https://archive.ics.uci.edu/ml/machine-learning-databases/autos/imports-85.data\n",
      "Downloaded file:  automobiles.csv\n"
     ]
    }
   ],
   "source": [
    "download_data()"
   ]
  },
  {
   "cell_type": "code",
   "execution_count": 8,
   "metadata": {
    "collapsed": true
   },
   "outputs": [],
   "source": [
    "COLUMN_TYPES = collections.OrderedDict([\n",
    "    (\"symboling\", int),\n",
    "    (\"normalized-losses\", float),\n",
    "    (\"make\", str),\n",
    "    (\"fuel-type\", str),\n",
    "    (\"aspiration\", str),\n",
    "    (\"num-of-doors\", str),\n",
    "    (\"body-style\", str),\n",
    "    (\"drive-wheels\", str),\n",
    "    (\"engine-location\", str),\n",
    "    (\"wheel-base\", float),\n",
    "    (\"length\", float),\n",
    "    (\"width\", float),\n",
    "    (\"height\", float),\n",
    "    (\"curb-weight\", float),\n",
    "    (\"engine-type\", str),\n",
    "    (\"num-of-cylinders\", str),\n",
    "    (\"engine-size\", float),\n",
    "    (\"fuel-system\", str),\n",
    "    (\"bore\", float),\n",
    "    (\"stroke\", float),\n",
    "    (\"compression-ratio\", float),\n",
    "    (\"horsepower\", float),\n",
    "    (\"peak-rpm\", float),\n",
    "    (\"city-mpg\", float),\n",
    "    (\"highway-mpg\", float),\n",
    "    (\"price\", float)\n",
    "])"
   ]
  },
  {
   "cell_type": "code",
   "execution_count": 9,
   "metadata": {
    "collapsed": true
   },
   "outputs": [],
   "source": [
    "df = pd.read_csv(DOWNLOADED_FILENAME, names=COLUMN_TYPES.keys(),\n",
    "                 dtype=COLUMN_TYPES, na_values=\"?\")"
   ]
  },
  {
   "cell_type": "code",
   "execution_count": 10,
   "metadata": {
    "collapsed": false
   },
   "outputs": [
    {
     "data": {
      "text/html": [
       "<div>\n",
       "<style>\n",
       "    .dataframe thead tr:only-child th {\n",
       "        text-align: right;\n",
       "    }\n",
       "\n",
       "    .dataframe thead th {\n",
       "        text-align: left;\n",
       "    }\n",
       "\n",
       "    .dataframe tbody tr th {\n",
       "        vertical-align: top;\n",
       "    }\n",
       "</style>\n",
       "<table border=\"1\" class=\"dataframe\">\n",
       "  <thead>\n",
       "    <tr style=\"text-align: right;\">\n",
       "      <th></th>\n",
       "      <th>symboling</th>\n",
       "      <th>normalized-losses</th>\n",
       "      <th>make</th>\n",
       "      <th>fuel-type</th>\n",
       "      <th>aspiration</th>\n",
       "      <th>num-of-doors</th>\n",
       "      <th>body-style</th>\n",
       "      <th>drive-wheels</th>\n",
       "      <th>engine-location</th>\n",
       "      <th>wheel-base</th>\n",
       "      <th>...</th>\n",
       "      <th>engine-size</th>\n",
       "      <th>fuel-system</th>\n",
       "      <th>bore</th>\n",
       "      <th>stroke</th>\n",
       "      <th>compression-ratio</th>\n",
       "      <th>horsepower</th>\n",
       "      <th>peak-rpm</th>\n",
       "      <th>city-mpg</th>\n",
       "      <th>highway-mpg</th>\n",
       "      <th>price</th>\n",
       "    </tr>\n",
       "  </thead>\n",
       "  <tbody>\n",
       "    <tr>\n",
       "      <th>0</th>\n",
       "      <td>3</td>\n",
       "      <td>NaN</td>\n",
       "      <td>alfa-romero</td>\n",
       "      <td>gas</td>\n",
       "      <td>std</td>\n",
       "      <td>two</td>\n",
       "      <td>convertible</td>\n",
       "      <td>rwd</td>\n",
       "      <td>front</td>\n",
       "      <td>88.6</td>\n",
       "      <td>...</td>\n",
       "      <td>130.0</td>\n",
       "      <td>mpfi</td>\n",
       "      <td>3.47</td>\n",
       "      <td>2.68</td>\n",
       "      <td>9.0</td>\n",
       "      <td>111.0</td>\n",
       "      <td>5000.0</td>\n",
       "      <td>21.0</td>\n",
       "      <td>27.0</td>\n",
       "      <td>13495.0</td>\n",
       "    </tr>\n",
       "    <tr>\n",
       "      <th>1</th>\n",
       "      <td>3</td>\n",
       "      <td>NaN</td>\n",
       "      <td>alfa-romero</td>\n",
       "      <td>gas</td>\n",
       "      <td>std</td>\n",
       "      <td>two</td>\n",
       "      <td>convertible</td>\n",
       "      <td>rwd</td>\n",
       "      <td>front</td>\n",
       "      <td>88.6</td>\n",
       "      <td>...</td>\n",
       "      <td>130.0</td>\n",
       "      <td>mpfi</td>\n",
       "      <td>3.47</td>\n",
       "      <td>2.68</td>\n",
       "      <td>9.0</td>\n",
       "      <td>111.0</td>\n",
       "      <td>5000.0</td>\n",
       "      <td>21.0</td>\n",
       "      <td>27.0</td>\n",
       "      <td>16500.0</td>\n",
       "    </tr>\n",
       "    <tr>\n",
       "      <th>2</th>\n",
       "      <td>1</td>\n",
       "      <td>NaN</td>\n",
       "      <td>alfa-romero</td>\n",
       "      <td>gas</td>\n",
       "      <td>std</td>\n",
       "      <td>two</td>\n",
       "      <td>hatchback</td>\n",
       "      <td>rwd</td>\n",
       "      <td>front</td>\n",
       "      <td>94.5</td>\n",
       "      <td>...</td>\n",
       "      <td>152.0</td>\n",
       "      <td>mpfi</td>\n",
       "      <td>2.68</td>\n",
       "      <td>3.47</td>\n",
       "      <td>9.0</td>\n",
       "      <td>154.0</td>\n",
       "      <td>5000.0</td>\n",
       "      <td>19.0</td>\n",
       "      <td>26.0</td>\n",
       "      <td>16500.0</td>\n",
       "    </tr>\n",
       "    <tr>\n",
       "      <th>3</th>\n",
       "      <td>2</td>\n",
       "      <td>164.0</td>\n",
       "      <td>audi</td>\n",
       "      <td>gas</td>\n",
       "      <td>std</td>\n",
       "      <td>four</td>\n",
       "      <td>sedan</td>\n",
       "      <td>fwd</td>\n",
       "      <td>front</td>\n",
       "      <td>99.8</td>\n",
       "      <td>...</td>\n",
       "      <td>109.0</td>\n",
       "      <td>mpfi</td>\n",
       "      <td>3.19</td>\n",
       "      <td>3.40</td>\n",
       "      <td>10.0</td>\n",
       "      <td>102.0</td>\n",
       "      <td>5500.0</td>\n",
       "      <td>24.0</td>\n",
       "      <td>30.0</td>\n",
       "      <td>13950.0</td>\n",
       "    </tr>\n",
       "    <tr>\n",
       "      <th>4</th>\n",
       "      <td>2</td>\n",
       "      <td>164.0</td>\n",
       "      <td>audi</td>\n",
       "      <td>gas</td>\n",
       "      <td>std</td>\n",
       "      <td>four</td>\n",
       "      <td>sedan</td>\n",
       "      <td>4wd</td>\n",
       "      <td>front</td>\n",
       "      <td>99.4</td>\n",
       "      <td>...</td>\n",
       "      <td>136.0</td>\n",
       "      <td>mpfi</td>\n",
       "      <td>3.19</td>\n",
       "      <td>3.40</td>\n",
       "      <td>8.0</td>\n",
       "      <td>115.0</td>\n",
       "      <td>5500.0</td>\n",
       "      <td>18.0</td>\n",
       "      <td>22.0</td>\n",
       "      <td>17450.0</td>\n",
       "    </tr>\n",
       "  </tbody>\n",
       "</table>\n",
       "<p>5 rows × 26 columns</p>\n",
       "</div>"
      ],
      "text/plain": [
       "   symboling  normalized-losses         make fuel-type aspiration  \\\n",
       "0          3                NaN  alfa-romero       gas        std   \n",
       "1          3                NaN  alfa-romero       gas        std   \n",
       "2          1                NaN  alfa-romero       gas        std   \n",
       "3          2              164.0         audi       gas        std   \n",
       "4          2              164.0         audi       gas        std   \n",
       "\n",
       "  num-of-doors   body-style drive-wheels engine-location  wheel-base   ...     \\\n",
       "0          two  convertible          rwd           front        88.6   ...      \n",
       "1          two  convertible          rwd           front        88.6   ...      \n",
       "2          two    hatchback          rwd           front        94.5   ...      \n",
       "3         four        sedan          fwd           front        99.8   ...      \n",
       "4         four        sedan          4wd           front        99.4   ...      \n",
       "\n",
       "   engine-size  fuel-system  bore  stroke compression-ratio horsepower  \\\n",
       "0        130.0         mpfi  3.47    2.68               9.0      111.0   \n",
       "1        130.0         mpfi  3.47    2.68               9.0      111.0   \n",
       "2        152.0         mpfi  2.68    3.47               9.0      154.0   \n",
       "3        109.0         mpfi  3.19    3.40              10.0      102.0   \n",
       "4        136.0         mpfi  3.19    3.40               8.0      115.0   \n",
       "\n",
       "   peak-rpm city-mpg  highway-mpg    price  \n",
       "0    5000.0     21.0         27.0  13495.0  \n",
       "1    5000.0     21.0         27.0  16500.0  \n",
       "2    5000.0     19.0         26.0  16500.0  \n",
       "3    5500.0     24.0         30.0  13950.0  \n",
       "4    5500.0     18.0         22.0  17450.0  \n",
       "\n",
       "[5 rows x 26 columns]"
      ]
     },
     "execution_count": 10,
     "metadata": {},
     "output_type": "execute_result"
    }
   ],
   "source": [
    "df.head()"
   ]
  },
  {
   "cell_type": "code",
   "execution_count": 11,
   "metadata": {
    "collapsed": false
   },
   "outputs": [
    {
     "data": {
      "text/plain": [
       "symboling            205\n",
       "normalized-losses    164\n",
       "make                 205\n",
       "fuel-type            205\n",
       "aspiration           205\n",
       "num-of-doors         203\n",
       "body-style           205\n",
       "drive-wheels         205\n",
       "engine-location      205\n",
       "wheel-base           205\n",
       "length               205\n",
       "width                205\n",
       "height               205\n",
       "curb-weight          205\n",
       "engine-type          205\n",
       "num-of-cylinders     205\n",
       "engine-size          205\n",
       "fuel-system          205\n",
       "bore                 201\n",
       "stroke               201\n",
       "compression-ratio    205\n",
       "horsepower           203\n",
       "peak-rpm             203\n",
       "city-mpg             205\n",
       "highway-mpg          205\n",
       "price                201\n",
       "dtype: int64"
      ]
     },
     "execution_count": 11,
     "metadata": {},
     "output_type": "execute_result"
    }
   ],
   "source": [
    "df.count()"
   ]
  },
  {
   "cell_type": "code",
   "execution_count": 12,
   "metadata": {
    "collapsed": true
   },
   "outputs": [],
   "source": [
    "df = df.dropna()"
   ]
  },
  {
   "cell_type": "code",
   "execution_count": 13,
   "metadata": {
    "collapsed": false
   },
   "outputs": [
    {
     "data": {
      "text/plain": [
       "symboling            159\n",
       "normalized-losses    159\n",
       "make                 159\n",
       "fuel-type            159\n",
       "aspiration           159\n",
       "num-of-doors         159\n",
       "body-style           159\n",
       "drive-wheels         159\n",
       "engine-location      159\n",
       "wheel-base           159\n",
       "length               159\n",
       "width                159\n",
       "height               159\n",
       "curb-weight          159\n",
       "engine-type          159\n",
       "num-of-cylinders     159\n",
       "engine-size          159\n",
       "fuel-system          159\n",
       "bore                 159\n",
       "stroke               159\n",
       "compression-ratio    159\n",
       "horsepower           159\n",
       "peak-rpm             159\n",
       "city-mpg             159\n",
       "highway-mpg          159\n",
       "price                159\n",
       "dtype: int64"
      ]
     },
     "execution_count": 13,
     "metadata": {},
     "output_type": "execute_result"
    }
   ],
   "source": [
    "df.count()"
   ]
  },
  {
   "cell_type": "code",
   "execution_count": 14,
   "metadata": {
    "collapsed": true
   },
   "outputs": [],
   "source": [
    "TRIMMED_CSV_COLUMNS = [\n",
    "    \"make\", \"fuel-type\", \"aspiration\", \"num-of-doors\", \"body-style\",\n",
    "    \"drive-wheels\", \"curb-weight\", \"engine-type\", \"num-of-cylinders\", \"engine-size\",\n",
    "    \"fuel-system\", \"horsepower\", \"peak-rpm\", \"city-mpg\", \"highway-mpg\", \"price\"\n",
    "]"
   ]
  },
  {
   "cell_type": "code",
   "execution_count": 15,
   "metadata": {
    "collapsed": true
   },
   "outputs": [],
   "source": [
    "df = df[TRIMMED_CSV_COLUMNS]"
   ]
  },
  {
   "cell_type": "code",
   "execution_count": 16,
   "metadata": {
    "collapsed": false
   },
   "outputs": [
    {
     "data": {
      "text/html": [
       "<div>\n",
       "<style>\n",
       "    .dataframe thead tr:only-child th {\n",
       "        text-align: right;\n",
       "    }\n",
       "\n",
       "    .dataframe thead th {\n",
       "        text-align: left;\n",
       "    }\n",
       "\n",
       "    .dataframe tbody tr th {\n",
       "        vertical-align: top;\n",
       "    }\n",
       "</style>\n",
       "<table border=\"1\" class=\"dataframe\">\n",
       "  <thead>\n",
       "    <tr style=\"text-align: right;\">\n",
       "      <th></th>\n",
       "      <th>make</th>\n",
       "      <th>fuel-type</th>\n",
       "      <th>aspiration</th>\n",
       "      <th>num-of-doors</th>\n",
       "      <th>body-style</th>\n",
       "      <th>drive-wheels</th>\n",
       "      <th>curb-weight</th>\n",
       "      <th>engine-type</th>\n",
       "      <th>num-of-cylinders</th>\n",
       "      <th>engine-size</th>\n",
       "      <th>fuel-system</th>\n",
       "      <th>horsepower</th>\n",
       "      <th>peak-rpm</th>\n",
       "      <th>city-mpg</th>\n",
       "      <th>highway-mpg</th>\n",
       "      <th>price</th>\n",
       "    </tr>\n",
       "  </thead>\n",
       "  <tbody>\n",
       "    <tr>\n",
       "      <th>3</th>\n",
       "      <td>audi</td>\n",
       "      <td>gas</td>\n",
       "      <td>std</td>\n",
       "      <td>four</td>\n",
       "      <td>sedan</td>\n",
       "      <td>fwd</td>\n",
       "      <td>2337.0</td>\n",
       "      <td>ohc</td>\n",
       "      <td>four</td>\n",
       "      <td>109.0</td>\n",
       "      <td>mpfi</td>\n",
       "      <td>102.0</td>\n",
       "      <td>5500.0</td>\n",
       "      <td>24.0</td>\n",
       "      <td>30.0</td>\n",
       "      <td>13950.0</td>\n",
       "    </tr>\n",
       "    <tr>\n",
       "      <th>4</th>\n",
       "      <td>audi</td>\n",
       "      <td>gas</td>\n",
       "      <td>std</td>\n",
       "      <td>four</td>\n",
       "      <td>sedan</td>\n",
       "      <td>4wd</td>\n",
       "      <td>2824.0</td>\n",
       "      <td>ohc</td>\n",
       "      <td>five</td>\n",
       "      <td>136.0</td>\n",
       "      <td>mpfi</td>\n",
       "      <td>115.0</td>\n",
       "      <td>5500.0</td>\n",
       "      <td>18.0</td>\n",
       "      <td>22.0</td>\n",
       "      <td>17450.0</td>\n",
       "    </tr>\n",
       "    <tr>\n",
       "      <th>6</th>\n",
       "      <td>audi</td>\n",
       "      <td>gas</td>\n",
       "      <td>std</td>\n",
       "      <td>four</td>\n",
       "      <td>sedan</td>\n",
       "      <td>fwd</td>\n",
       "      <td>2844.0</td>\n",
       "      <td>ohc</td>\n",
       "      <td>five</td>\n",
       "      <td>136.0</td>\n",
       "      <td>mpfi</td>\n",
       "      <td>110.0</td>\n",
       "      <td>5500.0</td>\n",
       "      <td>19.0</td>\n",
       "      <td>25.0</td>\n",
       "      <td>17710.0</td>\n",
       "    </tr>\n",
       "    <tr>\n",
       "      <th>8</th>\n",
       "      <td>audi</td>\n",
       "      <td>gas</td>\n",
       "      <td>turbo</td>\n",
       "      <td>four</td>\n",
       "      <td>sedan</td>\n",
       "      <td>fwd</td>\n",
       "      <td>3086.0</td>\n",
       "      <td>ohc</td>\n",
       "      <td>five</td>\n",
       "      <td>131.0</td>\n",
       "      <td>mpfi</td>\n",
       "      <td>140.0</td>\n",
       "      <td>5500.0</td>\n",
       "      <td>17.0</td>\n",
       "      <td>20.0</td>\n",
       "      <td>23875.0</td>\n",
       "    </tr>\n",
       "    <tr>\n",
       "      <th>10</th>\n",
       "      <td>bmw</td>\n",
       "      <td>gas</td>\n",
       "      <td>std</td>\n",
       "      <td>two</td>\n",
       "      <td>sedan</td>\n",
       "      <td>rwd</td>\n",
       "      <td>2395.0</td>\n",
       "      <td>ohc</td>\n",
       "      <td>four</td>\n",
       "      <td>108.0</td>\n",
       "      <td>mpfi</td>\n",
       "      <td>101.0</td>\n",
       "      <td>5800.0</td>\n",
       "      <td>23.0</td>\n",
       "      <td>29.0</td>\n",
       "      <td>16430.0</td>\n",
       "    </tr>\n",
       "  </tbody>\n",
       "</table>\n",
       "</div>"
      ],
      "text/plain": [
       "    make fuel-type aspiration num-of-doors body-style drive-wheels  \\\n",
       "3   audi       gas        std         four      sedan          fwd   \n",
       "4   audi       gas        std         four      sedan          4wd   \n",
       "6   audi       gas        std         four      sedan          fwd   \n",
       "8   audi       gas      turbo         four      sedan          fwd   \n",
       "10   bmw       gas        std          two      sedan          rwd   \n",
       "\n",
       "    curb-weight engine-type num-of-cylinders  engine-size fuel-system  \\\n",
       "3        2337.0         ohc             four        109.0        mpfi   \n",
       "4        2824.0         ohc             five        136.0        mpfi   \n",
       "6        2844.0         ohc             five        136.0        mpfi   \n",
       "8        3086.0         ohc             five        131.0        mpfi   \n",
       "10       2395.0         ohc             four        108.0        mpfi   \n",
       "\n",
       "    horsepower  peak-rpm  city-mpg  highway-mpg    price  \n",
       "3        102.0    5500.0      24.0         30.0  13950.0  \n",
       "4        115.0    5500.0      18.0         22.0  17450.0  \n",
       "6        110.0    5500.0      19.0         25.0  17710.0  \n",
       "8        140.0    5500.0      17.0         20.0  23875.0  \n",
       "10       101.0    5800.0      23.0         29.0  16430.0  "
      ]
     },
     "execution_count": 16,
     "metadata": {},
     "output_type": "execute_result"
    }
   ],
   "source": [
    "df.head()"
   ]
  },
  {
   "cell_type": "code",
   "execution_count": 17,
   "metadata": {
    "collapsed": true
   },
   "outputs": [],
   "source": [
    "Y_NAME = \"price\"\n",
    "\n",
    "def get_training_test_prediction_data(df):\n",
    "    \n",
    "    # Generate a unique shuffle each time\n",
    "    np.random.seed(None)\n",
    "\n",
    "    # Split the data into train/test subsets.\n",
    "    x_train = df.sample(frac=0.8, random_state=None)\n",
    "    \n",
    "    # Remove the training data from the original dataset\n",
    "    x_test = df.drop(x_train.index)\n",
    "    \n",
    "    # Choose a small sample from the test data for prediction\n",
    "    x_predict = x_test.sample(frac=0.2, random_state=None)\n",
    "    \n",
    "    # Extract the label from the features DataFrame.\n",
    "    y_train = x_train.pop(Y_NAME)\n",
    "    y_test = x_test.pop(Y_NAME)\n",
    "    y_predict = x_predict.pop(Y_NAME)\n",
    "    \n",
    "    return (x_train, y_train), (x_test, y_test), (x_predict, y_predict) "
   ]
  },
  {
   "cell_type": "code",
   "execution_count": 19,
   "metadata": {
    "collapsed": false
   },
   "outputs": [],
   "source": [
    "(x_train, y_train), (x_test, y_test), (x_predict, y_predict) = \\\n",
    "    get_training_test_prediction_data(df)"
   ]
  },
  {
   "cell_type": "code",
   "execution_count": 20,
   "metadata": {
    "collapsed": false
   },
   "outputs": [
    {
     "data": {
      "text/html": [
       "<div>\n",
       "<style>\n",
       "    .dataframe thead tr:only-child th {\n",
       "        text-align: right;\n",
       "    }\n",
       "\n",
       "    .dataframe thead th {\n",
       "        text-align: left;\n",
       "    }\n",
       "\n",
       "    .dataframe tbody tr th {\n",
       "        vertical-align: top;\n",
       "    }\n",
       "</style>\n",
       "<table border=\"1\" class=\"dataframe\">\n",
       "  <thead>\n",
       "    <tr style=\"text-align: right;\">\n",
       "      <th></th>\n",
       "      <th>make</th>\n",
       "      <th>fuel-type</th>\n",
       "      <th>aspiration</th>\n",
       "      <th>num-of-doors</th>\n",
       "      <th>body-style</th>\n",
       "      <th>drive-wheels</th>\n",
       "      <th>curb-weight</th>\n",
       "      <th>engine-type</th>\n",
       "      <th>num-of-cylinders</th>\n",
       "      <th>engine-size</th>\n",
       "      <th>fuel-system</th>\n",
       "      <th>horsepower</th>\n",
       "      <th>peak-rpm</th>\n",
       "      <th>city-mpg</th>\n",
       "      <th>highway-mpg</th>\n",
       "    </tr>\n",
       "  </thead>\n",
       "  <tbody>\n",
       "    <tr>\n",
       "      <th>53</th>\n",
       "      <td>mazda</td>\n",
       "      <td>gas</td>\n",
       "      <td>std</td>\n",
       "      <td>four</td>\n",
       "      <td>sedan</td>\n",
       "      <td>fwd</td>\n",
       "      <td>1945.0</td>\n",
       "      <td>ohc</td>\n",
       "      <td>four</td>\n",
       "      <td>91.0</td>\n",
       "      <td>2bbl</td>\n",
       "      <td>68.0</td>\n",
       "      <td>5000.0</td>\n",
       "      <td>31.0</td>\n",
       "      <td>38.0</td>\n",
       "    </tr>\n",
       "    <tr>\n",
       "      <th>133</th>\n",
       "      <td>saab</td>\n",
       "      <td>gas</td>\n",
       "      <td>std</td>\n",
       "      <td>four</td>\n",
       "      <td>sedan</td>\n",
       "      <td>fwd</td>\n",
       "      <td>2695.0</td>\n",
       "      <td>ohc</td>\n",
       "      <td>four</td>\n",
       "      <td>121.0</td>\n",
       "      <td>mpfi</td>\n",
       "      <td>110.0</td>\n",
       "      <td>5250.0</td>\n",
       "      <td>21.0</td>\n",
       "      <td>28.0</td>\n",
       "    </tr>\n",
       "    <tr>\n",
       "      <th>64</th>\n",
       "      <td>mazda</td>\n",
       "      <td>gas</td>\n",
       "      <td>std</td>\n",
       "      <td>four</td>\n",
       "      <td>hatchback</td>\n",
       "      <td>fwd</td>\n",
       "      <td>2425.0</td>\n",
       "      <td>ohc</td>\n",
       "      <td>four</td>\n",
       "      <td>122.0</td>\n",
       "      <td>2bbl</td>\n",
       "      <td>84.0</td>\n",
       "      <td>4800.0</td>\n",
       "      <td>26.0</td>\n",
       "      <td>32.0</td>\n",
       "    </tr>\n",
       "    <tr>\n",
       "      <th>187</th>\n",
       "      <td>volkswagen</td>\n",
       "      <td>diesel</td>\n",
       "      <td>turbo</td>\n",
       "      <td>four</td>\n",
       "      <td>sedan</td>\n",
       "      <td>fwd</td>\n",
       "      <td>2319.0</td>\n",
       "      <td>ohc</td>\n",
       "      <td>four</td>\n",
       "      <td>97.0</td>\n",
       "      <td>idi</td>\n",
       "      <td>68.0</td>\n",
       "      <td>4500.0</td>\n",
       "      <td>37.0</td>\n",
       "      <td>42.0</td>\n",
       "    </tr>\n",
       "    <tr>\n",
       "      <th>12</th>\n",
       "      <td>bmw</td>\n",
       "      <td>gas</td>\n",
       "      <td>std</td>\n",
       "      <td>two</td>\n",
       "      <td>sedan</td>\n",
       "      <td>rwd</td>\n",
       "      <td>2710.0</td>\n",
       "      <td>ohc</td>\n",
       "      <td>six</td>\n",
       "      <td>164.0</td>\n",
       "      <td>mpfi</td>\n",
       "      <td>121.0</td>\n",
       "      <td>4250.0</td>\n",
       "      <td>21.0</td>\n",
       "      <td>28.0</td>\n",
       "    </tr>\n",
       "  </tbody>\n",
       "</table>\n",
       "</div>"
      ],
      "text/plain": [
       "           make fuel-type aspiration num-of-doors body-style drive-wheels  \\\n",
       "53        mazda       gas        std         four      sedan          fwd   \n",
       "133        saab       gas        std         four      sedan          fwd   \n",
       "64        mazda       gas        std         four  hatchback          fwd   \n",
       "187  volkswagen    diesel      turbo         four      sedan          fwd   \n",
       "12          bmw       gas        std          two      sedan          rwd   \n",
       "\n",
       "     curb-weight engine-type num-of-cylinders  engine-size fuel-system  \\\n",
       "53        1945.0         ohc             four         91.0        2bbl   \n",
       "133       2695.0         ohc             four        121.0        mpfi   \n",
       "64        2425.0         ohc             four        122.0        2bbl   \n",
       "187       2319.0         ohc             four         97.0         idi   \n",
       "12        2710.0         ohc              six        164.0        mpfi   \n",
       "\n",
       "     horsepower  peak-rpm  city-mpg  highway-mpg  \n",
       "53         68.0    5000.0      31.0         38.0  \n",
       "133       110.0    5250.0      21.0         28.0  \n",
       "64         84.0    4800.0      26.0         32.0  \n",
       "187        68.0    4500.0      37.0         42.0  \n",
       "12        121.0    4250.0      21.0         28.0  "
      ]
     },
     "execution_count": 20,
     "metadata": {},
     "output_type": "execute_result"
    }
   ],
   "source": [
    "x_train.head()"
   ]
  },
  {
   "cell_type": "code",
   "execution_count": 21,
   "metadata": {
    "collapsed": false
   },
   "outputs": [
    {
     "data": {
      "text/plain": [
       "53      6695.0\n",
       "133    12170.0\n",
       "64     11245.0\n",
       "187     9495.0\n",
       "12     20970.0\n",
       "Name: price, dtype: float64"
      ]
     },
     "execution_count": 21,
     "metadata": {},
     "output_type": "execute_result"
    }
   ],
   "source": [
    "y_train.head()"
   ]
  },
  {
   "cell_type": "code",
   "execution_count": 22,
   "metadata": {
    "collapsed": true
   },
   "outputs": [],
   "source": [
    "PRICE_SCALING_FACTOR = 10000\n",
    "\n",
    "y_train /= PRICE_SCALING_FACTOR\n",
    "y_test /= PRICE_SCALING_FACTOR"
   ]
  },
  {
   "cell_type": "code",
   "execution_count": 23,
   "metadata": {
    "collapsed": false
   },
   "outputs": [
    {
     "data": {
      "text/plain": [
       "53     0.6695\n",
       "133    1.2170\n",
       "64     1.1245\n",
       "187    0.9495\n",
       "12     2.0970\n",
       "Name: price, dtype: float64"
      ]
     },
     "execution_count": 23,
     "metadata": {},
     "output_type": "execute_result"
    }
   ],
   "source": [
    "y_train.head()"
   ]
  },
  {
   "cell_type": "code",
   "execution_count": 24,
   "metadata": {
    "collapsed": false
   },
   "outputs": [
    {
     "data": {
      "text/plain": [
       "array(['audi', 'bmw', 'chevrolet', 'dodge', 'honda', 'jaguar', 'mazda',\n",
       "       'mercedes-benz', 'mitsubishi', 'nissan', 'peugot', 'plymouth',\n",
       "       'porsche', 'saab', 'subaru', 'toyota', 'volkswagen', 'volvo'], dtype=object)"
      ]
     },
     "execution_count": 24,
     "metadata": {},
     "output_type": "execute_result"
    }
   ],
   "source": [
    "df['make'].unique()"
   ]
  },
  {
   "cell_type": "code",
   "execution_count": 25,
   "metadata": {
    "collapsed": false
   },
   "outputs": [
    {
     "data": {
      "text/plain": [
       "array(['gas', 'diesel'], dtype=object)"
      ]
     },
     "execution_count": 25,
     "metadata": {},
     "output_type": "execute_result"
    }
   ],
   "source": [
    "df['fuel-type'].unique()"
   ]
  },
  {
   "cell_type": "code",
   "execution_count": 26,
   "metadata": {
    "collapsed": false
   },
   "outputs": [
    {
     "data": {
      "text/plain": [
       "array(['std', 'turbo'], dtype=object)"
      ]
     },
     "execution_count": 26,
     "metadata": {},
     "output_type": "execute_result"
    }
   ],
   "source": [
    "df['aspiration'].unique()"
   ]
  },
  {
   "cell_type": "code",
   "execution_count": 27,
   "metadata": {
    "collapsed": false
   },
   "outputs": [
    {
     "data": {
      "text/plain": [
       "array(['four', 'two'], dtype=object)"
      ]
     },
     "execution_count": 27,
     "metadata": {},
     "output_type": "execute_result"
    }
   ],
   "source": [
    "df['num-of-doors'].unique()"
   ]
  },
  {
   "cell_type": "code",
   "execution_count": 28,
   "metadata": {
    "collapsed": false
   },
   "outputs": [
    {
     "data": {
      "text/plain": [
       "array(['sedan', 'hatchback', 'wagon', 'hardtop', 'convertible'], dtype=object)"
      ]
     },
     "execution_count": 28,
     "metadata": {},
     "output_type": "execute_result"
    }
   ],
   "source": [
    "df['body-style'].unique()"
   ]
  },
  {
   "cell_type": "code",
   "execution_count": 29,
   "metadata": {
    "collapsed": false
   },
   "outputs": [
    {
     "data": {
      "text/plain": [
       "array(['fwd', '4wd', 'rwd'], dtype=object)"
      ]
     },
     "execution_count": 29,
     "metadata": {},
     "output_type": "execute_result"
    }
   ],
   "source": [
    "df['drive-wheels'].unique()"
   ]
  },
  {
   "cell_type": "code",
   "execution_count": 30,
   "metadata": {
    "collapsed": false
   },
   "outputs": [
    {
     "data": {
      "text/plain": [
       "array(['ohc', 'l', 'dohc', 'ohcv', 'ohcf'], dtype=object)"
      ]
     },
     "execution_count": 30,
     "metadata": {},
     "output_type": "execute_result"
    }
   ],
   "source": [
    "df['engine-type'].unique()"
   ]
  },
  {
   "cell_type": "code",
   "execution_count": 31,
   "metadata": {
    "collapsed": false
   },
   "outputs": [
    {
     "data": {
      "text/plain": [
       "array(['four', 'five', 'six', 'three', 'eight'], dtype=object)"
      ]
     },
     "execution_count": 31,
     "metadata": {},
     "output_type": "execute_result"
    }
   ],
   "source": [
    "df['num-of-cylinders'].unique()"
   ]
  },
  {
   "cell_type": "code",
   "execution_count": 32,
   "metadata": {
    "collapsed": false
   },
   "outputs": [
    {
     "data": {
      "text/plain": [
       "array(['mpfi', '2bbl', 'mfi', '1bbl', 'idi', 'spdi'], dtype=object)"
      ]
     },
     "execution_count": 32,
     "metadata": {},
     "output_type": "execute_result"
    }
   ],
   "source": [
    "df['fuel-system'].unique()"
   ]
  },
  {
   "cell_type": "code",
   "execution_count": 33,
   "metadata": {
    "collapsed": true
   },
   "outputs": [],
   "source": [
    "curb_weight = tf.feature_column.numeric_column(\"curb-weight\")\n",
    "\n",
    "engine_size = tf.feature_column.numeric_column(\"engine-size\")\n",
    "\n",
    "horsepower = tf.feature_column.numeric_column(\"horsepower\")\n",
    "\n",
    "peak_rpm = tf.feature_column.numeric_column(\"peak-rpm\")\n",
    "\n",
    "city_mpg = tf.feature_column.numeric_column(\"city-mpg\")\n",
    "\n",
    "highway_mpg = tf.feature_column.numeric_column(\"highway-mpg\")"
   ]
  },
  {
   "cell_type": "code",
   "execution_count": 34,
   "metadata": {
    "collapsed": true
   },
   "outputs": [],
   "source": [
    "body_style = tf.feature_column.categorical_column_with_vocabulary_list(\n",
    "      key=\"body-style\", vocabulary_list=df['body-style'].unique())\n",
    "\n",
    "fuel_type = tf.feature_column.categorical_column_with_vocabulary_list(\n",
    "      key=\"fuel-type\", vocabulary_list=df['fuel-type'].unique())\n",
    "\n",
    "aspiration = tf.feature_column.categorical_column_with_vocabulary_list(\n",
    "      key=\"aspiration\", vocabulary_list=df['aspiration'].unique())\n",
    "\n",
    "num_of_doors = tf.feature_column.categorical_column_with_vocabulary_list(\n",
    "      key=\"num-of-doors\", vocabulary_list=df['num-of-doors'].unique())\n",
    "\n",
    "drive_wheels = tf.feature_column.categorical_column_with_vocabulary_list(\n",
    "      key=\"drive-wheels\", vocabulary_list=df['drive-wheels'].unique())\n",
    "\n",
    "engine_type = tf.feature_column.categorical_column_with_vocabulary_list(\n",
    "      key=\"engine-type\", vocabulary_list=df['engine-type'].unique())\n",
    "\n",
    "num_of_cylinders = tf.feature_column.categorical_column_with_vocabulary_list(\n",
    "      key=\"num-of-cylinders\", vocabulary_list=df['num-of-cylinders'].unique())\n",
    "\n",
    "fuel_system = tf.feature_column.categorical_column_with_vocabulary_list(\n",
    "      key=\"fuel-system\", vocabulary_list=df['fuel-system'].unique())"
   ]
  },
  {
   "cell_type": "code",
   "execution_count": 35,
   "metadata": {
    "collapsed": true
   },
   "outputs": [],
   "source": [
    "make = tf.feature_column.categorical_column_with_hash_bucket(\n",
    "      key=\"make\", hash_bucket_size=50)"
   ]
  },
  {
   "cell_type": "code",
   "execution_count": 36,
   "metadata": {
    "collapsed": true
   },
   "outputs": [],
   "source": [
    "feature_columns = [\n",
    "    curb_weight, engine_size, horsepower, peak_rpm, city_mpg, highway_mpg,\n",
    "\n",
    "    tf.feature_column.indicator_column(body_style),\n",
    "\n",
    "    tf.feature_column.embedding_column(fuel_type, dimension=3),\n",
    "\n",
    "    tf.feature_column.embedding_column(aspiration, dimension=3),\n",
    "    tf.feature_column.embedding_column(num_of_doors, dimension=3),\n",
    "    tf.feature_column.embedding_column(drive_wheels, dimension=3),\n",
    "    tf.feature_column.embedding_column(engine_type, dimension=3),\n",
    "    tf.feature_column.embedding_column(num_of_cylinders, dimension=3),\n",
    "    tf.feature_column.embedding_column(fuel_system, dimension=3),\n",
    "\n",
    "    tf.feature_column.embedding_column(make, dimension=4)    \n",
    "]"
   ]
  },
  {
   "cell_type": "code",
   "execution_count": 37,
   "metadata": {
    "collapsed": true
   },
   "outputs": [],
   "source": [
    "def input_fn(x_data, y_data, num_epochs, shuffle):\n",
    "\n",
    "    return tf.estimator.inputs.pandas_input_fn(\n",
    "          x=x_data,\n",
    "          y=y_data,\n",
    "          batch_size=64,\n",
    "          num_epochs=num_epochs,\n",
    "          shuffle=shuffle)            "
   ]
  },
  {
   "cell_type": "code",
   "execution_count": 69,
   "metadata": {
    "collapsed": false
   },
   "outputs": [
    {
     "name": "stdout",
     "output_type": "stream",
     "text": [
      "INFO:tensorflow:Using default config.\n",
      "WARNING:tensorflow:Using temporary folder as model directory: /var/folders/yd/1rlyjfk975d3bb98d7_nyt740000gn/T/tmp6FrfSF\n",
      "INFO:tensorflow:Using config: {'_save_checkpoints_secs': 600, '_session_config': None, '_keep_checkpoint_max': 5, '_task_type': 'worker', '_is_chief': True, '_cluster_spec': <tensorflow.python.training.server_lib.ClusterSpec object at 0x11e580d90>, '_save_checkpoints_steps': None, '_keep_checkpoint_every_n_hours': 10000, '_service': None, '_num_ps_replicas': 0, '_tf_random_seed': None, '_master': '', '_num_worker_replicas': 1, '_task_id': 0, '_log_step_count_steps': 100, '_model_dir': '/var/folders/yd/1rlyjfk975d3bb98d7_nyt740000gn/T/tmp6FrfSF', '_save_summary_steps': 100}\n"
     ]
    }
   ],
   "source": [
    "model = tf.estimator.DNNRegressor(\n",
    "      hidden_units=[24, 16, 24], feature_columns=feature_columns)"
   ]
  },
  {
   "cell_type": "code",
   "execution_count": 70,
   "metadata": {
    "collapsed": false
   },
   "outputs": [
    {
     "name": "stdout",
     "output_type": "stream",
     "text": [
      "INFO:tensorflow:Create CheckpointSaverHook.\n",
      "INFO:tensorflow:Saving checkpoints for 1 into /var/folders/yd/1rlyjfk975d3bb98d7_nyt740000gn/T/tmp6FrfSF/model.ckpt.\n",
      "INFO:tensorflow:loss = 5.61059e+07, step = 1\n",
      "INFO:tensorflow:global_step/sec: 158.964\n",
      "INFO:tensorflow:loss = 1627.55, step = 101 (0.633 sec)\n",
      "INFO:tensorflow:global_step/sec: 239.004\n",
      "INFO:tensorflow:loss = 372.439, step = 201 (0.417 sec)\n",
      "INFO:tensorflow:global_step/sec: 237.694\n",
      "INFO:tensorflow:loss = 301.739, step = 301 (0.429 sec)\n",
      "INFO:tensorflow:global_step/sec: 247.267\n",
      "INFO:tensorflow:loss = 96.4529, step = 401 (0.402 sec)\n",
      "INFO:tensorflow:global_step/sec: 233.867\n",
      "INFO:tensorflow:loss = 89.8155, step = 501 (0.426 sec)\n",
      "INFO:tensorflow:global_step/sec: 248.212\n",
      "INFO:tensorflow:loss = 82.6057, step = 601 (0.403 sec)\n",
      "INFO:tensorflow:global_step/sec: 260.098\n",
      "INFO:tensorflow:loss = 40.5743, step = 701 (0.382 sec)\n",
      "INFO:tensorflow:global_step/sec: 228.873\n",
      "INFO:tensorflow:loss = 51.2595, step = 801 (0.432 sec)\n",
      "INFO:tensorflow:global_step/sec: 292.542\n",
      "INFO:tensorflow:loss = 60.8927, step = 901 (0.348 sec)\n",
      "INFO:tensorflow:global_step/sec: 232.761\n",
      "INFO:tensorflow:loss = 57.5089, step = 1001 (0.424 sec)\n",
      "INFO:tensorflow:global_step/sec: 262.815\n",
      "INFO:tensorflow:loss = 51.7054, step = 1101 (0.383 sec)\n",
      "INFO:tensorflow:global_step/sec: 243.11\n",
      "INFO:tensorflow:loss = 16.02, step = 1201 (0.414 sec)\n",
      "INFO:tensorflow:global_step/sec: 243.778\n",
      "INFO:tensorflow:loss = 16.7911, step = 1301 (0.409 sec)\n",
      "INFO:tensorflow:global_step/sec: 226.512\n",
      "INFO:tensorflow:loss = 21.2191, step = 1401 (0.444 sec)\n",
      "INFO:tensorflow:global_step/sec: 241.804\n",
      "INFO:tensorflow:loss = 36.7764, step = 1501 (0.412 sec)\n",
      "INFO:tensorflow:global_step/sec: 241.571\n",
      "INFO:tensorflow:loss = 18.5029, step = 1601 (0.411 sec)\n",
      "INFO:tensorflow:global_step/sec: 245.25\n",
      "INFO:tensorflow:loss = 14.158, step = 1701 (0.412 sec)\n",
      "INFO:tensorflow:global_step/sec: 253.649\n",
      "INFO:tensorflow:loss = 20.8609, step = 1801 (0.392 sec)\n",
      "INFO:tensorflow:global_step/sec: 281.247\n",
      "INFO:tensorflow:loss = 18.8884, step = 1901 (0.354 sec)\n",
      "INFO:tensorflow:global_step/sec: 229.871\n",
      "INFO:tensorflow:loss = 17.2381, step = 2001 (0.435 sec)\n",
      "INFO:tensorflow:global_step/sec: 281.404\n",
      "INFO:tensorflow:loss = 15.9862, step = 2101 (0.357 sec)\n",
      "INFO:tensorflow:global_step/sec: 264.826\n",
      "INFO:tensorflow:loss = 20.7466, step = 2201 (0.375 sec)\n",
      "INFO:tensorflow:global_step/sec: 205.837\n",
      "INFO:tensorflow:loss = 11.2672, step = 2301 (0.486 sec)\n",
      "INFO:tensorflow:global_step/sec: 208.054\n",
      "INFO:tensorflow:loss = 16.9288, step = 2401 (0.484 sec)\n",
      "INFO:tensorflow:global_step/sec: 268.507\n",
      "INFO:tensorflow:loss = 16.7243, step = 2501 (0.370 sec)\n",
      "INFO:tensorflow:global_step/sec: 280.161\n",
      "INFO:tensorflow:loss = 17.6259, step = 2601 (0.359 sec)\n",
      "INFO:tensorflow:global_step/sec: 261.945\n",
      "INFO:tensorflow:loss = 18.8017, step = 2701 (0.382 sec)\n",
      "INFO:tensorflow:global_step/sec: 275.929\n",
      "INFO:tensorflow:loss = 12.9344, step = 2801 (0.362 sec)\n",
      "INFO:tensorflow:global_step/sec: 257.797\n",
      "INFO:tensorflow:loss = 12.3813, step = 2901 (0.383 sec)\n",
      "INFO:tensorflow:global_step/sec: 263.039\n",
      "INFO:tensorflow:loss = 21.652, step = 3001 (0.381 sec)\n",
      "INFO:tensorflow:global_step/sec: 221.361\n",
      "INFO:tensorflow:loss = 14.2327, step = 3101 (0.456 sec)\n",
      "INFO:tensorflow:global_step/sec: 260.691\n",
      "INFO:tensorflow:loss = 13.5425, step = 3201 (0.386 sec)\n",
      "INFO:tensorflow:global_step/sec: 259.634\n",
      "INFO:tensorflow:loss = 12.1448, step = 3301 (0.382 sec)\n",
      "INFO:tensorflow:global_step/sec: 252.343\n",
      "INFO:tensorflow:loss = 8.9587, step = 3401 (0.399 sec)\n",
      "INFO:tensorflow:global_step/sec: 266.431\n",
      "INFO:tensorflow:loss = 16.0609, step = 3501 (0.374 sec)\n",
      "INFO:tensorflow:global_step/sec: 273.076\n",
      "INFO:tensorflow:loss = 11.3068, step = 3601 (0.366 sec)\n",
      "INFO:tensorflow:global_step/sec: 274.291\n",
      "INFO:tensorflow:loss = 14.4219, step = 3701 (0.365 sec)\n",
      "INFO:tensorflow:global_step/sec: 286.599\n",
      "INFO:tensorflow:loss = 13.2221, step = 3801 (0.346 sec)\n",
      "INFO:tensorflow:global_step/sec: 281.503\n",
      "INFO:tensorflow:loss = 15.689, step = 3901 (0.355 sec)\n",
      "INFO:tensorflow:global_step/sec: 277.042\n",
      "INFO:tensorflow:loss = 14.6797, step = 4001 (0.367 sec)\n",
      "INFO:tensorflow:global_step/sec: 249.475\n",
      "INFO:tensorflow:loss = 14.3299, step = 4101 (0.395 sec)\n",
      "INFO:tensorflow:global_step/sec: 286.62\n",
      "INFO:tensorflow:loss = 9.78528, step = 4201 (0.351 sec)\n",
      "INFO:tensorflow:global_step/sec: 245.425\n",
      "INFO:tensorflow:loss = 11.4633, step = 4301 (0.403 sec)\n",
      "INFO:tensorflow:global_step/sec: 245.251\n",
      "INFO:tensorflow:loss = 10.2832, step = 4401 (0.406 sec)\n",
      "INFO:tensorflow:global_step/sec: 244.014\n",
      "INFO:tensorflow:loss = 11.3626, step = 4501 (0.417 sec)\n",
      "INFO:tensorflow:global_step/sec: 258.733\n",
      "INFO:tensorflow:loss = 7.95287, step = 4601 (0.388 sec)\n",
      "INFO:tensorflow:global_step/sec: 259.781\n",
      "INFO:tensorflow:loss = 9.63671, step = 4701 (0.383 sec)\n",
      "INFO:tensorflow:global_step/sec: 264.737\n",
      "INFO:tensorflow:loss = 10.8489, step = 4801 (0.376 sec)\n",
      "INFO:tensorflow:global_step/sec: 277.466\n",
      "INFO:tensorflow:loss = 10.6052, step = 4901 (0.360 sec)\n",
      "INFO:tensorflow:global_step/sec: 259.141\n",
      "INFO:tensorflow:loss = 9.68276, step = 5001 (0.386 sec)\n",
      "INFO:tensorflow:global_step/sec: 247.776\n",
      "INFO:tensorflow:loss = 15.8943, step = 5101 (0.406 sec)\n",
      "INFO:tensorflow:global_step/sec: 264.657\n",
      "INFO:tensorflow:loss = 10.895, step = 5201 (0.376 sec)\n",
      "INFO:tensorflow:global_step/sec: 273.275\n",
      "INFO:tensorflow:loss = 9.84761, step = 5301 (0.364 sec)\n",
      "INFO:tensorflow:global_step/sec: 236.516\n",
      "INFO:tensorflow:loss = 9.45082, step = 5401 (0.421 sec)\n",
      "INFO:tensorflow:global_step/sec: 255.988\n",
      "INFO:tensorflow:loss = 10.3895, step = 5501 (0.400 sec)\n",
      "INFO:tensorflow:global_step/sec: 264.338\n",
      "INFO:tensorflow:loss = 11.1972, step = 5601 (0.370 sec)\n",
      "INFO:tensorflow:global_step/sec: 247.573\n",
      "INFO:tensorflow:loss = 7.36802, step = 5701 (0.407 sec)\n",
      "INFO:tensorflow:global_step/sec: 273.265\n",
      "INFO:tensorflow:loss = 8.1005, step = 5801 (0.366 sec)\n",
      "INFO:tensorflow:global_step/sec: 282.017\n",
      "INFO:tensorflow:loss = 11.7761, step = 5901 (0.355 sec)\n",
      "INFO:tensorflow:global_step/sec: 247.279\n",
      "INFO:tensorflow:loss = 8.51506, step = 6001 (0.405 sec)\n",
      "INFO:tensorflow:global_step/sec: 267.545\n",
      "INFO:tensorflow:loss = 11.3805, step = 6101 (0.372 sec)\n",
      "INFO:tensorflow:global_step/sec: 273.832\n",
      "INFO:tensorflow:loss = 8.76583, step = 6201 (0.366 sec)\n",
      "INFO:tensorflow:global_step/sec: 270.197\n",
      "INFO:tensorflow:loss = 13.2645, step = 6301 (0.368 sec)\n",
      "INFO:tensorflow:global_step/sec: 254.09\n",
      "INFO:tensorflow:loss = 8.70549, step = 6401 (0.394 sec)\n",
      "INFO:tensorflow:global_step/sec: 269.302\n",
      "INFO:tensorflow:loss = 5.38044, step = 6501 (0.372 sec)\n",
      "INFO:tensorflow:global_step/sec: 281.822\n",
      "INFO:tensorflow:loss = 10.8123, step = 6601 (0.354 sec)\n",
      "INFO:tensorflow:global_step/sec: 271.176\n",
      "INFO:tensorflow:loss = 8.82732, step = 6701 (0.370 sec)\n",
      "INFO:tensorflow:global_step/sec: 268.262\n",
      "INFO:tensorflow:loss = 9.10092, step = 6801 (0.373 sec)\n",
      "INFO:tensorflow:global_step/sec: 281.292\n",
      "INFO:tensorflow:loss = 7.1242, step = 6901 (0.356 sec)\n",
      "INFO:tensorflow:global_step/sec: 274.897\n",
      "INFO:tensorflow:loss = 9.74239, step = 7001 (0.361 sec)\n",
      "INFO:tensorflow:global_step/sec: 279.207\n",
      "INFO:tensorflow:loss = 9.07797, step = 7101 (0.361 sec)\n",
      "INFO:tensorflow:global_step/sec: 264.941\n",
      "INFO:tensorflow:loss = 12.5048, step = 7201 (0.376 sec)\n",
      "INFO:tensorflow:global_step/sec: 268.174\n",
      "INFO:tensorflow:loss = 13.7201, step = 7301 (0.375 sec)\n",
      "INFO:tensorflow:global_step/sec: 272.477\n",
      "INFO:tensorflow:loss = 12.0517, step = 7401 (0.367 sec)\n",
      "INFO:tensorflow:global_step/sec: 267.343\n",
      "INFO:tensorflow:loss = 7.4042, step = 7501 (0.369 sec)\n",
      "INFO:tensorflow:global_step/sec: 280.609\n",
      "INFO:tensorflow:loss = 7.42409, step = 7601 (0.360 sec)\n",
      "INFO:tensorflow:global_step/sec: 264.03\n",
      "INFO:tensorflow:loss = 7.14768, step = 7701 (0.377 sec)\n",
      "INFO:tensorflow:global_step/sec: 269.784\n",
      "INFO:tensorflow:loss = 7.29206, step = 7801 (0.374 sec)\n",
      "INFO:tensorflow:global_step/sec: 277.838\n",
      "INFO:tensorflow:loss = 6.25152, step = 7901 (0.357 sec)\n",
      "INFO:tensorflow:global_step/sec: 266.675\n",
      "INFO:tensorflow:loss = 12.7794, step = 8001 (0.380 sec)\n",
      "INFO:tensorflow:global_step/sec: 250.666\n",
      "INFO:tensorflow:loss = 8.74561, step = 8101 (0.395 sec)\n",
      "INFO:tensorflow:global_step/sec: 229.816\n",
      "INFO:tensorflow:loss = 8.03803, step = 8201 (0.439 sec)\n",
      "INFO:tensorflow:global_step/sec: 267.67\n",
      "INFO:tensorflow:loss = 6.96598, step = 8301 (0.368 sec)\n",
      "INFO:tensorflow:global_step/sec: 274.615\n",
      "INFO:tensorflow:loss = 7.62652, step = 8401 (0.367 sec)\n",
      "INFO:tensorflow:global_step/sec: 276.055\n",
      "INFO:tensorflow:loss = 11.5784, step = 8501 (0.358 sec)\n",
      "INFO:tensorflow:global_step/sec: 273.234\n",
      "INFO:tensorflow:loss = 9.01395, step = 8601 (0.368 sec)\n",
      "INFO:tensorflow:global_step/sec: 268.17\n",
      "INFO:tensorflow:loss = 7.58466, step = 8701 (0.376 sec)\n",
      "INFO:tensorflow:global_step/sec: 253.466\n",
      "INFO:tensorflow:loss = 8.55617, step = 8801 (0.392 sec)\n",
      "INFO:tensorflow:global_step/sec: 258.307\n",
      "INFO:tensorflow:loss = 7.29838, step = 8901 (0.384 sec)\n",
      "INFO:tensorflow:global_step/sec: 277.53\n",
      "INFO:tensorflow:loss = 9.30025, step = 9001 (0.363 sec)\n",
      "INFO:tensorflow:global_step/sec: 242.961\n",
      "INFO:tensorflow:loss = 11.2722, step = 9101 (0.412 sec)\n",
      "INFO:tensorflow:global_step/sec: 267.771\n",
      "INFO:tensorflow:loss = 12.8392, step = 9201 (0.373 sec)\n",
      "INFO:tensorflow:global_step/sec: 249.984\n",
      "INFO:tensorflow:loss = 13.1435, step = 9301 (0.398 sec)\n",
      "INFO:tensorflow:global_step/sec: 279.619\n",
      "INFO:tensorflow:loss = 10.7226, step = 9401 (0.360 sec)\n",
      "INFO:tensorflow:global_step/sec: 275.701\n",
      "INFO:tensorflow:loss = 6.65605, step = 9501 (0.362 sec)\n",
      "INFO:tensorflow:global_step/sec: 292.273\n",
      "INFO:tensorflow:loss = 5.99462, step = 9601 (0.346 sec)\n",
      "INFO:tensorflow:global_step/sec: 273.646\n",
      "INFO:tensorflow:loss = 8.10193, step = 9701 (0.364 sec)\n",
      "INFO:tensorflow:global_step/sec: 273.724\n",
      "INFO:tensorflow:loss = 7.75863, step = 9801 (0.363 sec)\n",
      "INFO:tensorflow:global_step/sec: 281.172\n",
      "INFO:tensorflow:loss = 7.6881, step = 9901 (0.359 sec)\n",
      "INFO:tensorflow:global_step/sec: 272.869\n",
      "INFO:tensorflow:loss = 7.17184, step = 10001 (0.363 sec)\n",
      "INFO:tensorflow:global_step/sec: 242.544\n",
      "INFO:tensorflow:loss = 6.59682, step = 10101 (0.420 sec)\n",
      "INFO:tensorflow:global_step/sec: 253.491\n",
      "INFO:tensorflow:loss = 7.43288, step = 10201 (0.389 sec)\n",
      "INFO:tensorflow:global_step/sec: 274.042\n",
      "INFO:tensorflow:loss = 8.01596, step = 10301 (0.364 sec)\n",
      "INFO:tensorflow:global_step/sec: 205.278\n",
      "INFO:tensorflow:loss = 9.293, step = 10401 (0.490 sec)\n",
      "INFO:tensorflow:global_step/sec: 209.231\n",
      "INFO:tensorflow:loss = 9.84516, step = 10501 (0.476 sec)\n",
      "INFO:tensorflow:global_step/sec: 239.667\n",
      "INFO:tensorflow:loss = 9.12685, step = 10601 (0.412 sec)\n",
      "INFO:tensorflow:global_step/sec: 271.728\n",
      "INFO:tensorflow:loss = 6.92249, step = 10701 (0.371 sec)\n",
      "INFO:tensorflow:global_step/sec: 250.725\n",
      "INFO:tensorflow:loss = 7.22053, step = 10801 (0.399 sec)\n",
      "INFO:tensorflow:global_step/sec: 268.012\n",
      "INFO:tensorflow:loss = 9.85563, step = 10901 (0.375 sec)\n",
      "INFO:tensorflow:global_step/sec: 273.114\n",
      "INFO:tensorflow:loss = 9.05034, step = 11001 (0.366 sec)\n",
      "INFO:tensorflow:global_step/sec: 224.172\n",
      "INFO:tensorflow:loss = 10.9848, step = 11101 (0.446 sec)\n",
      "INFO:tensorflow:global_step/sec: 269.124\n",
      "INFO:tensorflow:loss = 7.84501, step = 11201 (0.370 sec)\n",
      "INFO:tensorflow:global_step/sec: 270.25\n",
      "INFO:tensorflow:loss = 8.53842, step = 11301 (0.373 sec)\n",
      "INFO:tensorflow:global_step/sec: 274.171\n",
      "INFO:tensorflow:loss = 8.79509, step = 11401 (0.364 sec)\n",
      "INFO:tensorflow:global_step/sec: 244.283\n",
      "INFO:tensorflow:loss = 6.46197, step = 11501 (0.407 sec)\n",
      "INFO:tensorflow:global_step/sec: 268.08\n",
      "INFO:tensorflow:loss = 9.67803, step = 11601 (0.375 sec)\n",
      "INFO:tensorflow:global_step/sec: 261.053\n",
      "INFO:tensorflow:loss = 6.09038, step = 11701 (0.382 sec)\n",
      "INFO:tensorflow:global_step/sec: 237.436\n",
      "INFO:tensorflow:loss = 9.8948, step = 11801 (0.425 sec)\n",
      "INFO:tensorflow:global_step/sec: 248.156\n",
      "INFO:tensorflow:loss = 4.98613, step = 11901 (0.401 sec)\n",
      "INFO:tensorflow:global_step/sec: 256.821\n",
      "INFO:tensorflow:loss = 8.24269, step = 12001 (0.385 sec)\n",
      "INFO:tensorflow:global_step/sec: 273.14\n",
      "INFO:tensorflow:loss = 8.10384, step = 12101 (0.370 sec)\n",
      "INFO:tensorflow:global_step/sec: 252.195\n",
      "INFO:tensorflow:loss = 9.89234, step = 12201 (0.395 sec)\n",
      "INFO:tensorflow:global_step/sec: 242.964\n",
      "INFO:tensorflow:loss = 8.0309, step = 12301 (0.415 sec)\n",
      "INFO:tensorflow:global_step/sec: 257.638\n",
      "INFO:tensorflow:loss = 6.56157, step = 12401 (0.384 sec)\n",
      "INFO:tensorflow:global_step/sec: 249.439\n",
      "INFO:tensorflow:loss = 8.21866, step = 12501 (0.401 sec)\n",
      "INFO:tensorflow:global_step/sec: 269.434\n",
      "INFO:tensorflow:loss = 7.47343, step = 12601 (0.374 sec)\n",
      "INFO:tensorflow:global_step/sec: 224.219\n",
      "INFO:tensorflow:loss = 12.9019, step = 12701 (0.441 sec)\n",
      "INFO:tensorflow:global_step/sec: 252.716\n",
      "INFO:tensorflow:loss = 7.80681, step = 12801 (0.398 sec)\n",
      "INFO:tensorflow:global_step/sec: 244.025\n",
      "INFO:tensorflow:loss = 6.72826, step = 12901 (0.410 sec)\n",
      "INFO:tensorflow:global_step/sec: 245.73\n",
      "INFO:tensorflow:loss = 10.4702, step = 13001 (0.414 sec)\n",
      "INFO:tensorflow:global_step/sec: 259.792\n",
      "INFO:tensorflow:loss = 7.91912, step = 13101 (0.378 sec)\n",
      "INFO:tensorflow:global_step/sec: 243.119\n",
      "INFO:tensorflow:loss = 7.71366, step = 13201 (0.414 sec)\n",
      "INFO:tensorflow:global_step/sec: 267.741\n",
      "INFO:tensorflow:loss = 7.54196, step = 13301 (0.369 sec)\n",
      "INFO:tensorflow:global_step/sec: 270.078\n",
      "INFO:tensorflow:loss = 5.04258, step = 13401 (0.372 sec)\n",
      "INFO:tensorflow:global_step/sec: 268.521\n",
      "INFO:tensorflow:loss = 12.7391, step = 13501 (0.374 sec)\n",
      "INFO:tensorflow:global_step/sec: 275.349\n",
      "INFO:tensorflow:loss = 8.74553, step = 13601 (0.361 sec)\n",
      "INFO:tensorflow:global_step/sec: 264.675\n",
      "INFO:tensorflow:loss = 6.22781, step = 13701 (0.378 sec)\n",
      "INFO:tensorflow:global_step/sec: 227.225\n",
      "INFO:tensorflow:loss = 9.73854, step = 13801 (0.440 sec)\n",
      "INFO:tensorflow:global_step/sec: 249.298\n",
      "INFO:tensorflow:loss = 9.35818, step = 13901 (0.404 sec)\n",
      "INFO:tensorflow:global_step/sec: 263.242\n",
      "INFO:tensorflow:loss = 9.11938, step = 14001 (0.379 sec)\n",
      "INFO:tensorflow:global_step/sec: 257.921\n",
      "INFO:tensorflow:loss = 8.75225, step = 14101 (0.385 sec)\n",
      "INFO:tensorflow:global_step/sec: 264.606\n",
      "INFO:tensorflow:loss = 10.3838, step = 14201 (0.378 sec)\n",
      "INFO:tensorflow:global_step/sec: 265.499\n",
      "INFO:tensorflow:loss = 9.14781, step = 14301 (0.378 sec)\n",
      "INFO:tensorflow:global_step/sec: 262.374\n",
      "INFO:tensorflow:loss = 7.97014, step = 14401 (0.380 sec)\n",
      "INFO:tensorflow:global_step/sec: 231.104\n",
      "INFO:tensorflow:loss = 6.48756, step = 14501 (0.435 sec)\n",
      "INFO:tensorflow:global_step/sec: 255.004\n",
      "INFO:tensorflow:loss = 6.88134, step = 14601 (0.390 sec)\n",
      "INFO:tensorflow:global_step/sec: 246.088\n",
      "INFO:tensorflow:loss = 8.7708, step = 14701 (0.407 sec)\n",
      "INFO:tensorflow:global_step/sec: 250.238\n",
      "INFO:tensorflow:loss = 3.98435, step = 14801 (0.400 sec)\n",
      "INFO:tensorflow:global_step/sec: 249.532\n",
      "INFO:tensorflow:loss = 9.86715, step = 14901 (0.399 sec)\n",
      "INFO:tensorflow:global_step/sec: 247.017\n",
      "INFO:tensorflow:loss = 10.4837, step = 15001 (0.406 sec)\n",
      "INFO:tensorflow:global_step/sec: 268.081\n",
      "INFO:tensorflow:loss = 8.80355, step = 15101 (0.374 sec)\n",
      "INFO:tensorflow:global_step/sec: 223.087\n",
      "INFO:tensorflow:loss = 7.15386, step = 15201 (0.444 sec)\n",
      "INFO:tensorflow:global_step/sec: 265.062\n",
      "INFO:tensorflow:loss = 6.83076, step = 15301 (0.381 sec)\n",
      "INFO:tensorflow:global_step/sec: 255.324\n",
      "INFO:tensorflow:loss = 10.9756, step = 15401 (0.390 sec)\n",
      "INFO:tensorflow:global_step/sec: 265.387\n",
      "INFO:tensorflow:loss = 6.5037, step = 15501 (0.382 sec)\n",
      "INFO:tensorflow:global_step/sec: 266.809\n",
      "INFO:tensorflow:loss = 7.22245, step = 15601 (0.369 sec)\n",
      "INFO:tensorflow:global_step/sec: 254.046\n",
      "INFO:tensorflow:loss = 10.505, step = 15701 (0.393 sec)\n",
      "INFO:tensorflow:global_step/sec: 275.022\n",
      "INFO:tensorflow:loss = 6.68967, step = 15801 (0.365 sec)\n",
      "INFO:tensorflow:global_step/sec: 261.488\n",
      "INFO:tensorflow:loss = 7.37984, step = 15901 (0.381 sec)\n",
      "INFO:tensorflow:global_step/sec: 271.522\n",
      "INFO:tensorflow:loss = 8.81718, step = 16001 (0.369 sec)\n",
      "INFO:tensorflow:global_step/sec: 248.15\n",
      "INFO:tensorflow:loss = 5.38401, step = 16101 (0.401 sec)\n",
      "INFO:tensorflow:global_step/sec: 264.563\n",
      "INFO:tensorflow:loss = 4.48961, step = 16201 (0.377 sec)\n",
      "INFO:tensorflow:global_step/sec: 243.214\n",
      "INFO:tensorflow:loss = 7.1886, step = 16301 (0.413 sec)\n",
      "INFO:tensorflow:global_step/sec: 222.575\n",
      "INFO:tensorflow:loss = 6.31234, step = 16401 (0.454 sec)\n",
      "INFO:tensorflow:global_step/sec: 242.836\n",
      "INFO:tensorflow:loss = 7.95459, step = 16501 (0.407 sec)\n",
      "INFO:tensorflow:global_step/sec: 251.172\n",
      "INFO:tensorflow:loss = 7.40407, step = 16601 (0.401 sec)\n",
      "INFO:tensorflow:global_step/sec: 257.3\n",
      "INFO:tensorflow:loss = 7.85141, step = 16701 (0.388 sec)\n",
      "INFO:tensorflow:global_step/sec: 264.54\n",
      "INFO:tensorflow:loss = 6.68089, step = 16801 (0.376 sec)\n",
      "INFO:tensorflow:global_step/sec: 223.043\n",
      "INFO:tensorflow:loss = 7.09242, step = 16901 (0.450 sec)\n",
      "INFO:tensorflow:global_step/sec: 213.054\n",
      "INFO:tensorflow:loss = 6.94467, step = 17001 (0.470 sec)\n",
      "INFO:tensorflow:global_step/sec: 266.29\n",
      "INFO:tensorflow:loss = 9.05731, step = 17101 (0.373 sec)\n",
      "INFO:tensorflow:global_step/sec: 243.857\n",
      "INFO:tensorflow:loss = 8.23819, step = 17201 (0.409 sec)\n",
      "INFO:tensorflow:global_step/sec: 221.007\n",
      "INFO:tensorflow:loss = 6.77923, step = 17301 (0.456 sec)\n",
      "INFO:tensorflow:global_step/sec: 232.283\n",
      "INFO:tensorflow:loss = 6.70136, step = 17401 (0.430 sec)\n",
      "INFO:tensorflow:global_step/sec: 207.939\n",
      "INFO:tensorflow:loss = 7.45573, step = 17501 (0.476 sec)\n",
      "INFO:tensorflow:global_step/sec: 195.813\n",
      "INFO:tensorflow:loss = 8.64719, step = 17601 (0.514 sec)\n",
      "INFO:tensorflow:global_step/sec: 244.769\n",
      "INFO:tensorflow:loss = 5.61938, step = 17701 (0.408 sec)\n",
      "INFO:tensorflow:global_step/sec: 209.894\n",
      "INFO:tensorflow:loss = 8.39031, step = 17801 (0.481 sec)\n",
      "INFO:tensorflow:global_step/sec: 237.168\n",
      "INFO:tensorflow:loss = 6.72419, step = 17901 (0.417 sec)\n",
      "INFO:tensorflow:global_step/sec: 250.107\n",
      "INFO:tensorflow:loss = 5.04466, step = 18001 (0.401 sec)\n",
      "INFO:tensorflow:global_step/sec: 197.013\n",
      "INFO:tensorflow:loss = 7.50511, step = 18101 (0.509 sec)\n",
      "INFO:tensorflow:global_step/sec: 199.983\n",
      "INFO:tensorflow:loss = 6.55658, step = 18201 (0.496 sec)\n",
      "INFO:tensorflow:global_step/sec: 207.107\n",
      "INFO:tensorflow:loss = 7.32174, step = 18301 (0.488 sec)\n",
      "INFO:tensorflow:global_step/sec: 232.855\n",
      "INFO:tensorflow:loss = 7.24247, step = 18401 (0.429 sec)\n",
      "INFO:tensorflow:global_step/sec: 254.033\n",
      "INFO:tensorflow:loss = 7.44404, step = 18501 (0.393 sec)\n",
      "INFO:tensorflow:global_step/sec: 215.385\n",
      "INFO:tensorflow:loss = 7.15648, step = 18601 (0.463 sec)\n",
      "INFO:tensorflow:global_step/sec: 231.484\n",
      "INFO:tensorflow:loss = 7.79541, step = 18701 (0.433 sec)\n",
      "INFO:tensorflow:global_step/sec: 219.843\n",
      "INFO:tensorflow:loss = 9.28599, step = 18801 (0.455 sec)\n",
      "INFO:tensorflow:global_step/sec: 233.386\n",
      "INFO:tensorflow:loss = 7.63008, step = 18901 (0.429 sec)\n",
      "INFO:tensorflow:global_step/sec: 246.348\n",
      "INFO:tensorflow:loss = 6.19745, step = 19001 (0.403 sec)\n",
      "INFO:tensorflow:global_step/sec: 253.571\n",
      "INFO:tensorflow:loss = 4.94926, step = 19101 (0.394 sec)\n",
      "INFO:tensorflow:global_step/sec: 238.21\n",
      "INFO:tensorflow:loss = 9.26748, step = 19201 (0.423 sec)\n",
      "INFO:tensorflow:global_step/sec: 248.323\n",
      "INFO:tensorflow:loss = 6.77064, step = 19301 (0.400 sec)\n",
      "INFO:tensorflow:global_step/sec: 243.139\n",
      "INFO:tensorflow:loss = 7.41877, step = 19401 (0.410 sec)\n",
      "INFO:tensorflow:global_step/sec: 254.254\n",
      "INFO:tensorflow:loss = 6.04453, step = 19501 (0.394 sec)\n",
      "INFO:tensorflow:global_step/sec: 230.067\n",
      "INFO:tensorflow:loss = 6.73921, step = 19601 (0.438 sec)\n",
      "INFO:tensorflow:global_step/sec: 247.846\n",
      "INFO:tensorflow:loss = 5.02766, step = 19701 (0.403 sec)\n",
      "INFO:tensorflow:global_step/sec: 200.226\n",
      "INFO:tensorflow:loss = 7.37827, step = 19801 (0.500 sec)\n",
      "INFO:tensorflow:global_step/sec: 244.685\n",
      "INFO:tensorflow:loss = 7.53869, step = 19901 (0.406 sec)\n",
      "INFO:tensorflow:Saving checkpoints for 20000 into /var/folders/yd/1rlyjfk975d3bb98d7_nyt740000gn/T/tmp6FrfSF/model.ckpt.\n",
      "INFO:tensorflow:Loss for final step: 11.4398.\n"
     ]
    },
    {
     "data": {
      "text/plain": [
       "<tensorflow.python.estimator.canned.dnn.DNNRegressor at 0x1218dfcd0>"
      ]
     },
     "execution_count": 70,
     "metadata": {},
     "output_type": "execute_result"
    }
   ],
   "source": [
    "model.train(input_fn=input_fn(x_train, y_train, num_epochs=None, shuffle=True), steps=20000)"
   ]
  },
  {
   "cell_type": "code",
   "execution_count": 71,
   "metadata": {
    "collapsed": false
   },
   "outputs": [
    {
     "name": "stdout",
     "output_type": "stream",
     "text": [
      "INFO:tensorflow:Starting evaluation at 2017-12-21-04:26:07\n",
      "INFO:tensorflow:Restoring parameters from /var/folders/yd/1rlyjfk975d3bb98d7_nyt740000gn/T/tmp6FrfSF/model.ckpt-20000\n",
      "INFO:tensorflow:Finished evaluation at 2017-12-21-04:26:08\n",
      "INFO:tensorflow:Saving dict for global step 20000: average_loss = 0.145189, global_step = 20000, loss = 4.64606\n"
     ]
    }
   ],
   "source": [
    "results = model.evaluate(input_fn=input_fn(x_test, y_test, num_epochs=1, shuffle=False))"
   ]
  },
  {
   "cell_type": "code",
   "execution_count": 72,
   "metadata": {
    "collapsed": false
   },
   "outputs": [
    {
     "name": "stdout",
     "output_type": "stream",
     "text": [
      "average_loss: 0.145189\n",
      "global_step: 20000\n",
      "loss: 4.64606\n"
     ]
    }
   ],
   "source": [
    "for key in sorted(results):\n",
    "    print(\"%s: %s\" % (key, results[key]))\n"
   ]
  },
  {
   "cell_type": "code",
   "execution_count": 73,
   "metadata": {
    "collapsed": true
   },
   "outputs": [],
   "source": [
    "average_loss = results[\"average_loss\"]"
   ]
  },
  {
   "cell_type": "code",
   "execution_count": 74,
   "metadata": {
    "collapsed": false
   },
   "outputs": [
    {
     "name": "stdout",
     "output_type": "stream",
     "text": [
      "\n",
      "RMS error for the test set: $3810\n"
     ]
    }
   ],
   "source": [
    "print(\"\\nRMS error for the test set: ${:.0f}\"\n",
    "        .format(PRICE_SCALING_FACTOR * average_loss**0.5))"
   ]
  },
  {
   "cell_type": "code",
   "execution_count": 75,
   "metadata": {
    "collapsed": false
   },
   "outputs": [
    {
     "data": {
      "text/plain": [
       "(6, 6)"
      ]
     },
     "execution_count": 75,
     "metadata": {},
     "output_type": "execute_result"
    }
   ],
   "source": [
    "len(x_predict), len(y_predict)"
   ]
  },
  {
   "cell_type": "code",
   "execution_count": 76,
   "metadata": {
    "collapsed": true
   },
   "outputs": [],
   "source": [
    "predict_results = model.predict(input_fn=input_fn(x_predict, y_predict, num_epochs=1, shuffle=False))"
   ]
  },
  {
   "cell_type": "code",
   "execution_count": 77,
   "metadata": {
    "collapsed": false
   },
   "outputs": [
    {
     "name": "stdout",
     "output_type": "stream",
     "text": [
      "INFO:tensorflow:Restoring parameters from /var/folders/yd/1rlyjfk975d3bb98d7_nyt740000gn/T/tmp6FrfSF/model.ckpt-20000\n"
     ]
    }
   ],
   "source": [
    "predictions = list(itertools.islice(predict_results, len(x_predict)))"
   ]
  },
  {
   "cell_type": "code",
   "execution_count": 78,
   "metadata": {
    "collapsed": false
   },
   "outputs": [
    {
     "data": {
      "text/plain": [
       "[{'predictions': array([ 1.44325781], dtype=float32)},\n",
       " {'predictions': array([ 3.06986761], dtype=float32)},\n",
       " {'predictions': array([ 0.87775177], dtype=float32)},\n",
       " {'predictions': array([ 0.98317474], dtype=float32)},\n",
       " {'predictions': array([ 0.42458099], dtype=float32)},\n",
       " {'predictions': array([ 1.03918219], dtype=float32)}]"
      ]
     },
     "execution_count": 78,
     "metadata": {},
     "output_type": "execute_result"
    }
   ],
   "source": [
    "predictions"
   ]
  },
  {
   "cell_type": "code",
   "execution_count": 79,
   "metadata": {
    "collapsed": true
   },
   "outputs": [],
   "source": [
    "predicted_prices = [obj['predictions'][0] * PRICE_SCALING_FACTOR for obj in predictions]"
   ]
  },
  {
   "cell_type": "code",
   "execution_count": 80,
   "metadata": {
    "collapsed": false
   },
   "outputs": [
    {
     "data": {
      "text/plain": [
       "[14432.578086853027,\n",
       " 30698.676109313965,\n",
       " 8777.5176763534546,\n",
       " 9831.7474126815796,\n",
       " 4245.8099126815796,\n",
       " 10391.82186126709]"
      ]
     },
     "execution_count": 80,
     "metadata": {},
     "output_type": "execute_result"
    }
   ],
   "source": [
    "predicted_prices"
   ]
  },
  {
   "cell_type": "code",
   "execution_count": 81,
   "metadata": {
    "collapsed": true
   },
   "outputs": [],
   "source": [
    "compare_df = x_predict.copy()"
   ]
  },
  {
   "cell_type": "code",
   "execution_count": 82,
   "metadata": {
    "collapsed": false
   },
   "outputs": [
    {
     "data": {
      "text/html": [
       "<div>\n",
       "<style>\n",
       "    .dataframe thead tr:only-child th {\n",
       "        text-align: right;\n",
       "    }\n",
       "\n",
       "    .dataframe thead th {\n",
       "        text-align: left;\n",
       "    }\n",
       "\n",
       "    .dataframe tbody tr th {\n",
       "        vertical-align: top;\n",
       "    }\n",
       "</style>\n",
       "<table border=\"1\" class=\"dataframe\">\n",
       "  <thead>\n",
       "    <tr style=\"text-align: right;\">\n",
       "      <th></th>\n",
       "      <th>make</th>\n",
       "      <th>fuel-type</th>\n",
       "      <th>aspiration</th>\n",
       "      <th>num-of-doors</th>\n",
       "      <th>body-style</th>\n",
       "      <th>drive-wheels</th>\n",
       "      <th>curb-weight</th>\n",
       "      <th>engine-type</th>\n",
       "      <th>num-of-cylinders</th>\n",
       "      <th>engine-size</th>\n",
       "      <th>fuel-system</th>\n",
       "      <th>horsepower</th>\n",
       "      <th>peak-rpm</th>\n",
       "      <th>city-mpg</th>\n",
       "      <th>highway-mpg</th>\n",
       "    </tr>\n",
       "  </thead>\n",
       "  <tbody>\n",
       "    <tr>\n",
       "      <th>200</th>\n",
       "      <td>volvo</td>\n",
       "      <td>gas</td>\n",
       "      <td>std</td>\n",
       "      <td>four</td>\n",
       "      <td>sedan</td>\n",
       "      <td>rwd</td>\n",
       "      <td>2952.0</td>\n",
       "      <td>ohc</td>\n",
       "      <td>four</td>\n",
       "      <td>141.0</td>\n",
       "      <td>mpfi</td>\n",
       "      <td>114.0</td>\n",
       "      <td>5400.0</td>\n",
       "      <td>23.0</td>\n",
       "      <td>28.0</td>\n",
       "    </tr>\n",
       "    <tr>\n",
       "      <th>68</th>\n",
       "      <td>mercedes-benz</td>\n",
       "      <td>diesel</td>\n",
       "      <td>turbo</td>\n",
       "      <td>four</td>\n",
       "      <td>wagon</td>\n",
       "      <td>rwd</td>\n",
       "      <td>3750.0</td>\n",
       "      <td>ohc</td>\n",
       "      <td>five</td>\n",
       "      <td>183.0</td>\n",
       "      <td>idi</td>\n",
       "      <td>123.0</td>\n",
       "      <td>4350.0</td>\n",
       "      <td>22.0</td>\n",
       "      <td>25.0</td>\n",
       "    </tr>\n",
       "    <tr>\n",
       "      <th>42</th>\n",
       "      <td>honda</td>\n",
       "      <td>gas</td>\n",
       "      <td>std</td>\n",
       "      <td>two</td>\n",
       "      <td>sedan</td>\n",
       "      <td>fwd</td>\n",
       "      <td>2293.0</td>\n",
       "      <td>ohc</td>\n",
       "      <td>four</td>\n",
       "      <td>110.0</td>\n",
       "      <td>2bbl</td>\n",
       "      <td>100.0</td>\n",
       "      <td>5500.0</td>\n",
       "      <td>25.0</td>\n",
       "      <td>31.0</td>\n",
       "    </tr>\n",
       "    <tr>\n",
       "      <th>186</th>\n",
       "      <td>volkswagen</td>\n",
       "      <td>gas</td>\n",
       "      <td>std</td>\n",
       "      <td>four</td>\n",
       "      <td>sedan</td>\n",
       "      <td>fwd</td>\n",
       "      <td>2275.0</td>\n",
       "      <td>ohc</td>\n",
       "      <td>four</td>\n",
       "      <td>109.0</td>\n",
       "      <td>mpfi</td>\n",
       "      <td>85.0</td>\n",
       "      <td>5250.0</td>\n",
       "      <td>27.0</td>\n",
       "      <td>34.0</td>\n",
       "    </tr>\n",
       "    <tr>\n",
       "      <th>165</th>\n",
       "      <td>toyota</td>\n",
       "      <td>gas</td>\n",
       "      <td>std</td>\n",
       "      <td>two</td>\n",
       "      <td>sedan</td>\n",
       "      <td>rwd</td>\n",
       "      <td>2265.0</td>\n",
       "      <td>dohc</td>\n",
       "      <td>four</td>\n",
       "      <td>98.0</td>\n",
       "      <td>mpfi</td>\n",
       "      <td>112.0</td>\n",
       "      <td>6600.0</td>\n",
       "      <td>26.0</td>\n",
       "      <td>29.0</td>\n",
       "    </tr>\n",
       "    <tr>\n",
       "      <th>30</th>\n",
       "      <td>honda</td>\n",
       "      <td>gas</td>\n",
       "      <td>std</td>\n",
       "      <td>two</td>\n",
       "      <td>hatchback</td>\n",
       "      <td>fwd</td>\n",
       "      <td>1713.0</td>\n",
       "      <td>ohc</td>\n",
       "      <td>four</td>\n",
       "      <td>92.0</td>\n",
       "      <td>1bbl</td>\n",
       "      <td>58.0</td>\n",
       "      <td>4800.0</td>\n",
       "      <td>49.0</td>\n",
       "      <td>54.0</td>\n",
       "    </tr>\n",
       "  </tbody>\n",
       "</table>\n",
       "</div>"
      ],
      "text/plain": [
       "              make fuel-type aspiration num-of-doors body-style drive-wheels  \\\n",
       "200          volvo       gas        std         four      sedan          rwd   \n",
       "68   mercedes-benz    diesel      turbo         four      wagon          rwd   \n",
       "42           honda       gas        std          two      sedan          fwd   \n",
       "186     volkswagen       gas        std         four      sedan          fwd   \n",
       "165         toyota       gas        std          two      sedan          rwd   \n",
       "30           honda       gas        std          two  hatchback          fwd   \n",
       "\n",
       "     curb-weight engine-type num-of-cylinders  engine-size fuel-system  \\\n",
       "200       2952.0         ohc             four        141.0        mpfi   \n",
       "68        3750.0         ohc             five        183.0         idi   \n",
       "42        2293.0         ohc             four        110.0        2bbl   \n",
       "186       2275.0         ohc             four        109.0        mpfi   \n",
       "165       2265.0        dohc             four         98.0        mpfi   \n",
       "30        1713.0         ohc             four         92.0        1bbl   \n",
       "\n",
       "     horsepower  peak-rpm  city-mpg  highway-mpg  \n",
       "200       114.0    5400.0      23.0         28.0  \n",
       "68        123.0    4350.0      22.0         25.0  \n",
       "42        100.0    5500.0      25.0         31.0  \n",
       "186        85.0    5250.0      27.0         34.0  \n",
       "165       112.0    6600.0      26.0         29.0  \n",
       "30         58.0    4800.0      49.0         54.0  "
      ]
     },
     "execution_count": 82,
     "metadata": {},
     "output_type": "execute_result"
    }
   ],
   "source": [
    "compare_df"
   ]
  },
  {
   "cell_type": "code",
   "execution_count": 83,
   "metadata": {
    "collapsed": true
   },
   "outputs": [],
   "source": [
    "compare_df['actual-price'] = y_predict\n",
    "compare_df['predicted-price'] = predicted_prices"
   ]
  },
  {
   "cell_type": "code",
   "execution_count": 84,
   "metadata": {
    "collapsed": false
   },
   "outputs": [
    {
     "data": {
      "text/html": [
       "<div>\n",
       "<style>\n",
       "    .dataframe thead tr:only-child th {\n",
       "        text-align: right;\n",
       "    }\n",
       "\n",
       "    .dataframe thead th {\n",
       "        text-align: left;\n",
       "    }\n",
       "\n",
       "    .dataframe tbody tr th {\n",
       "        vertical-align: top;\n",
       "    }\n",
       "</style>\n",
       "<table border=\"1\" class=\"dataframe\">\n",
       "  <thead>\n",
       "    <tr style=\"text-align: right;\">\n",
       "      <th></th>\n",
       "      <th>make</th>\n",
       "      <th>fuel-type</th>\n",
       "      <th>aspiration</th>\n",
       "      <th>num-of-doors</th>\n",
       "      <th>body-style</th>\n",
       "      <th>drive-wheels</th>\n",
       "      <th>curb-weight</th>\n",
       "      <th>engine-type</th>\n",
       "      <th>num-of-cylinders</th>\n",
       "      <th>engine-size</th>\n",
       "      <th>fuel-system</th>\n",
       "      <th>horsepower</th>\n",
       "      <th>peak-rpm</th>\n",
       "      <th>city-mpg</th>\n",
       "      <th>highway-mpg</th>\n",
       "      <th>actual-price</th>\n",
       "      <th>predicted-price</th>\n",
       "    </tr>\n",
       "  </thead>\n",
       "  <tbody>\n",
       "    <tr>\n",
       "      <th>200</th>\n",
       "      <td>volvo</td>\n",
       "      <td>gas</td>\n",
       "      <td>std</td>\n",
       "      <td>four</td>\n",
       "      <td>sedan</td>\n",
       "      <td>rwd</td>\n",
       "      <td>2952.0</td>\n",
       "      <td>ohc</td>\n",
       "      <td>four</td>\n",
       "      <td>141.0</td>\n",
       "      <td>mpfi</td>\n",
       "      <td>114.0</td>\n",
       "      <td>5400.0</td>\n",
       "      <td>23.0</td>\n",
       "      <td>28.0</td>\n",
       "      <td>16845.0</td>\n",
       "      <td>14432.578087</td>\n",
       "    </tr>\n",
       "    <tr>\n",
       "      <th>68</th>\n",
       "      <td>mercedes-benz</td>\n",
       "      <td>diesel</td>\n",
       "      <td>turbo</td>\n",
       "      <td>four</td>\n",
       "      <td>wagon</td>\n",
       "      <td>rwd</td>\n",
       "      <td>3750.0</td>\n",
       "      <td>ohc</td>\n",
       "      <td>five</td>\n",
       "      <td>183.0</td>\n",
       "      <td>idi</td>\n",
       "      <td>123.0</td>\n",
       "      <td>4350.0</td>\n",
       "      <td>22.0</td>\n",
       "      <td>25.0</td>\n",
       "      <td>28248.0</td>\n",
       "      <td>30698.676109</td>\n",
       "    </tr>\n",
       "    <tr>\n",
       "      <th>42</th>\n",
       "      <td>honda</td>\n",
       "      <td>gas</td>\n",
       "      <td>std</td>\n",
       "      <td>two</td>\n",
       "      <td>sedan</td>\n",
       "      <td>fwd</td>\n",
       "      <td>2293.0</td>\n",
       "      <td>ohc</td>\n",
       "      <td>four</td>\n",
       "      <td>110.0</td>\n",
       "      <td>2bbl</td>\n",
       "      <td>100.0</td>\n",
       "      <td>5500.0</td>\n",
       "      <td>25.0</td>\n",
       "      <td>31.0</td>\n",
       "      <td>10345.0</td>\n",
       "      <td>8777.517676</td>\n",
       "    </tr>\n",
       "    <tr>\n",
       "      <th>186</th>\n",
       "      <td>volkswagen</td>\n",
       "      <td>gas</td>\n",
       "      <td>std</td>\n",
       "      <td>four</td>\n",
       "      <td>sedan</td>\n",
       "      <td>fwd</td>\n",
       "      <td>2275.0</td>\n",
       "      <td>ohc</td>\n",
       "      <td>four</td>\n",
       "      <td>109.0</td>\n",
       "      <td>mpfi</td>\n",
       "      <td>85.0</td>\n",
       "      <td>5250.0</td>\n",
       "      <td>27.0</td>\n",
       "      <td>34.0</td>\n",
       "      <td>8495.0</td>\n",
       "      <td>9831.747413</td>\n",
       "    </tr>\n",
       "    <tr>\n",
       "      <th>165</th>\n",
       "      <td>toyota</td>\n",
       "      <td>gas</td>\n",
       "      <td>std</td>\n",
       "      <td>two</td>\n",
       "      <td>sedan</td>\n",
       "      <td>rwd</td>\n",
       "      <td>2265.0</td>\n",
       "      <td>dohc</td>\n",
       "      <td>four</td>\n",
       "      <td>98.0</td>\n",
       "      <td>mpfi</td>\n",
       "      <td>112.0</td>\n",
       "      <td>6600.0</td>\n",
       "      <td>26.0</td>\n",
       "      <td>29.0</td>\n",
       "      <td>9298.0</td>\n",
       "      <td>4245.809913</td>\n",
       "    </tr>\n",
       "    <tr>\n",
       "      <th>30</th>\n",
       "      <td>honda</td>\n",
       "      <td>gas</td>\n",
       "      <td>std</td>\n",
       "      <td>two</td>\n",
       "      <td>hatchback</td>\n",
       "      <td>fwd</td>\n",
       "      <td>1713.0</td>\n",
       "      <td>ohc</td>\n",
       "      <td>four</td>\n",
       "      <td>92.0</td>\n",
       "      <td>1bbl</td>\n",
       "      <td>58.0</td>\n",
       "      <td>4800.0</td>\n",
       "      <td>49.0</td>\n",
       "      <td>54.0</td>\n",
       "      <td>6479.0</td>\n",
       "      <td>10391.821861</td>\n",
       "    </tr>\n",
       "  </tbody>\n",
       "</table>\n",
       "</div>"
      ],
      "text/plain": [
       "              make fuel-type aspiration num-of-doors body-style drive-wheels  \\\n",
       "200          volvo       gas        std         four      sedan          rwd   \n",
       "68   mercedes-benz    diesel      turbo         four      wagon          rwd   \n",
       "42           honda       gas        std          two      sedan          fwd   \n",
       "186     volkswagen       gas        std         four      sedan          fwd   \n",
       "165         toyota       gas        std          two      sedan          rwd   \n",
       "30           honda       gas        std          two  hatchback          fwd   \n",
       "\n",
       "     curb-weight engine-type num-of-cylinders  engine-size fuel-system  \\\n",
       "200       2952.0         ohc             four        141.0        mpfi   \n",
       "68        3750.0         ohc             five        183.0         idi   \n",
       "42        2293.0         ohc             four        110.0        2bbl   \n",
       "186       2275.0         ohc             four        109.0        mpfi   \n",
       "165       2265.0        dohc             four         98.0        mpfi   \n",
       "30        1713.0         ohc             four         92.0        1bbl   \n",
       "\n",
       "     horsepower  peak-rpm  city-mpg  highway-mpg  actual-price  \\\n",
       "200       114.0    5400.0      23.0         28.0       16845.0   \n",
       "68        123.0    4350.0      22.0         25.0       28248.0   \n",
       "42        100.0    5500.0      25.0         31.0       10345.0   \n",
       "186        85.0    5250.0      27.0         34.0        8495.0   \n",
       "165       112.0    6600.0      26.0         29.0        9298.0   \n",
       "30         58.0    4800.0      49.0         54.0        6479.0   \n",
       "\n",
       "     predicted-price  \n",
       "200     14432.578087  \n",
       "68      30698.676109  \n",
       "42       8777.517676  \n",
       "186      9831.747413  \n",
       "165      4245.809913  \n",
       "30      10391.821861  "
      ]
     },
     "execution_count": 84,
     "metadata": {},
     "output_type": "execute_result"
    }
   ],
   "source": [
    "compare_df"
   ]
  },
  {
   "cell_type": "code",
   "execution_count": null,
   "metadata": {
    "collapsed": true
   },
   "outputs": [],
   "source": []
  },
  {
   "cell_type": "code",
   "execution_count": null,
   "metadata": {
    "collapsed": true
   },
   "outputs": [],
   "source": []
  },
  {
   "cell_type": "code",
   "execution_count": null,
   "metadata": {
    "collapsed": true
   },
   "outputs": [],
   "source": []
  },
  {
   "cell_type": "code",
   "execution_count": null,
   "metadata": {
    "collapsed": true
   },
   "outputs": [],
   "source": []
  }
 ],
 "metadata": {
  "kernelspec": {
   "display_name": "Python 2",
   "language": "python",
   "name": "python2"
  },
  "language_info": {
   "codemirror_mode": {
    "name": "ipython",
    "version": 2
   },
   "file_extension": ".py",
   "mimetype": "text/x-python",
   "name": "python",
   "nbconvert_exporter": "python",
   "pygments_lexer": "ipython2",
   "version": "2.7.11"
  }
 },
 "nbformat": 4,
 "nbformat_minor": 2
}
