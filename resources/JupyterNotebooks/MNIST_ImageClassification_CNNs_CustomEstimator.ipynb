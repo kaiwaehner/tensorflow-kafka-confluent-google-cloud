{
 "cells": [
  {
   "cell_type": "code",
   "execution_count": 1,
   "metadata": {
    "collapsed": true,
    "deletable": true,
    "editable": true
   },
   "outputs": [],
   "source": [
    "from __future__ import absolute_import\n",
    "from __future__ import division\n",
    "from __future__ import print_function"
   ]
  },
  {
   "cell_type": "code",
   "execution_count": 2,
   "metadata": {
    "collapsed": true
   },
   "outputs": [],
   "source": [
    "import os\n",
    "import collections\n",
    "import itertools"
   ]
  },
  {
   "cell_type": "code",
   "execution_count": 3,
   "metadata": {
    "collapsed": true
   },
   "outputs": [],
   "source": [
    "import numpy as np\n",
    "import pandas as pd\n",
    "import scipy as sp\n",
    "import tensorflow as tf\n",
    "\n",
    "from tensorflow.examples.tutorials.mnist import input_data"
   ]
  },
  {
   "cell_type": "code",
   "execution_count": 4,
   "metadata": {
    "collapsed": true
   },
   "outputs": [],
   "source": [
    "%matplotlib inline\n",
    "\n",
    "import matplotlib\n",
    "import matplotlib.pyplot as plt"
   ]
  },
  {
   "cell_type": "code",
   "execution_count": 5,
   "metadata": {
    "collapsed": true
   },
   "outputs": [],
   "source": [
    "from six.moves import urllib"
   ]
  },
  {
   "cell_type": "code",
   "execution_count": 6,
   "metadata": {
    "collapsed": false
   },
   "outputs": [
    {
     "name": "stdout",
     "output_type": "stream",
     "text": [
      "1.13.3\n",
      "0.20.1\n",
      "1.0.0\n",
      "1.4.1\n"
     ]
    }
   ],
   "source": [
    "print(np.__version__)\n",
    "print(pd.__version__)\n",
    "print(sp.__version__)\n",
    "print(tf.__version__)"
   ]
  },
  {
   "cell_type": "code",
   "execution_count": 7,
   "metadata": {
    "collapsed": false
   },
   "outputs": [
    {
     "name": "stdout",
     "output_type": "stream",
     "text": [
      "Successfully downloaded train-images-idx3-ubyte.gz 9912422 bytes.\n",
      "Extracting mnist_data/train-images-idx3-ubyte.gz\n",
      "Successfully downloaded train-labels-idx1-ubyte.gz 28881 bytes.\n",
      "Extracting mnist_data/train-labels-idx1-ubyte.gz\n",
      "Successfully downloaded t10k-images-idx3-ubyte.gz 1648877 bytes.\n",
      "Extracting mnist_data/t10k-images-idx3-ubyte.gz\n",
      "Successfully downloaded t10k-labels-idx1-ubyte.gz 4542 bytes.\n",
      "Extracting mnist_data/t10k-labels-idx1-ubyte.gz\n"
     ]
    }
   ],
   "source": [
    "mnist = input_data.read_data_sets(\"mnist_data/\")"
   ]
  },
  {
   "cell_type": "code",
   "execution_count": 76,
   "metadata": {
    "collapsed": true
   },
   "outputs": [],
   "source": [
    "def display_digit(digit):\n",
    "    plt.imshow(digit.reshape(28, 28), cmap=\"Greys\", interpolation='nearest')"
   ]
  },
  {
   "cell_type": "code",
   "execution_count": 77,
   "metadata": {
    "collapsed": false
   },
   "outputs": [
    {
     "data": {
      "image/png": "[encoded data removed]",
      "text/plain": [
       "<matplotlib.figure.Figure at 0x114652c90>"
      ]
     },
     "metadata": {},
     "output_type": "display_data"
    }
   ],
   "source": [
    "display_digit(mnist.train.images[10])"
   ]
  },
  {
   "cell_type": "code",
   "execution_count": 139,
   "metadata": {
    "collapsed": true
   },
   "outputs": [],
   "source": [
    "height = 28\n",
    "width = 28\n",
    "channels = 1\n",
    "n_inputs = height * width\n",
    "\n",
    "conv1_feature_maps = 32\n",
    "conv1_kernel_size = 3\n",
    "conv1_stride = 1\n",
    "conv1_pad = \"SAME\"\n",
    "\n",
    "conv2_feature_maps = 64\n",
    "conv2_kernel_size = 3\n",
    "conv2_stride = 2\n",
    "conv2_pad = \"SAME\"\n",
    "\n",
    "pool3_feature_maps = conv2_feature_maps\n",
    "\n",
    "n_fullyconn1 = 64\n",
    "n_outputs = 10"
   ]
  },
  {
   "cell_type": "code",
   "execution_count": 140,
   "metadata": {
    "collapsed": true
   },
   "outputs": [],
   "source": [
    "def build_cnn(features):\n",
    "\n",
    "    X = tf.reshape(features['images'], shape=[-1, height, width, channels])\n",
    "\n",
    "    conv1 = tf.layers.conv2d(X, filters=conv1_feature_maps,\n",
    "                             kernel_size=conv1_kernel_size,\n",
    "                             strides=conv1_stride, padding=conv1_pad,\n",
    "                             activation=tf.nn.relu)\n",
    "    \n",
    "    conv2 = tf.layers.conv2d(conv1, filters=conv2_feature_maps, \n",
    "                             kernel_size=conv2_kernel_size,\n",
    "                             strides=conv2_stride, padding=conv2_pad,\n",
    "                             activation=tf.nn.relu)\n",
    "    \n",
    "    pool3 = tf.nn.max_pool(conv2,\n",
    "                           ksize=[1, 2, 2, 1],\n",
    "                           strides=[1, 2, 2, 1],\n",
    "                           padding=\"VALID\")\n",
    "    \n",
    "    \n",
    "    pool3_flat = tf.reshape(pool3, shape=[-1, pool3_feature_maps * 7 * 7])\n",
    "    \n",
    "    fullyconn1 = tf.layers.dense(pool3_flat, n_fullyconn1,\n",
    "                                 activation=tf.nn.relu)\n",
    "    \n",
    "    logits = tf.layers.dense(fullyconn1, n_outputs)\n",
    "    \n",
    "    return logits    "
   ]
  },
  {
   "cell_type": "code",
   "execution_count": 141,
   "metadata": {
    "collapsed": true
   },
   "outputs": [],
   "source": [
    "def cnn_model_fn(features, labels, mode):\n",
    "    \n",
    "    logits = build_cnn(features)\n",
    "    \n",
    "    predicted_classes = tf.argmax(logits, axis=1)\n",
    "    \n",
    "    # Prediction mode    \n",
    "    if mode == tf.estimator.ModeKeys.PREDICT:\n",
    "        return tf.estimator.EstimatorSpec(mode, predictions=predicted_classes)\n",
    "    \n",
    "    loss = tf.reduce_mean(tf.nn.sparse_softmax_cross_entropy_with_logits(\n",
    "        logits=logits, labels=tf.cast(labels, dtype=tf.int32)))\n",
    "    \n",
    "    optimizer = tf.train.AdamOptimizer(learning_rate=learning_rate)\n",
    "    train_op = optimizer.minimize(loss, global_step=tf.train.get_global_step())\n",
    "    \n",
    "    # Training mode    \n",
    "    if mode == tf.estimator.ModeKeys.TRAIN:\n",
    "        return tf.estimator.EstimatorSpec(mode, loss=loss, train_op=train_op)\n",
    "    \n",
    "    # Evaluation mode    \n",
    "    accuracy = tf.metrics.accuracy(labels=labels, predictions=predicted_classes)\n",
    "    \n",
    "    return tf.estimator.EstimatorSpec(\n",
    "        mode=mode,\n",
    "        predictions=predicted_classes,\n",
    "        train_op=train_op,\n",
    "        loss=loss,\n",
    "        eval_metric_ops={'accuracy': accuracy})"
   ]
  },
  {
   "cell_type": "code",
   "execution_count": 142,
   "metadata": {
    "collapsed": true
   },
   "outputs": [],
   "source": [
    "num_steps = 2000\n",
    "batch_size = 100"
   ]
  },
  {
   "cell_type": "code",
   "execution_count": 143,
   "metadata": {
    "collapsed": false
   },
   "outputs": [
    {
     "name": "stdout",
     "output_type": "stream",
     "text": [
      "INFO:tensorflow:Using default config.\n",
      "WARNING:tensorflow:Using temporary folder as model directory: /var/folders/yd/1rlyjfk975d3bb98d7_nyt740000gn/T/tmpOkepMC\n",
      "INFO:tensorflow:Using config: {'_save_checkpoints_secs': 600, '_session_config': None, '_keep_checkpoint_max': 5, '_task_type': 'worker', '_is_chief': True, '_cluster_spec': <tensorflow.python.training.server_lib.ClusterSpec object at 0x114753810>, '_save_checkpoints_steps': None, '_keep_checkpoint_every_n_hours': 10000, '_service': None, '_num_ps_replicas': 0, '_tf_random_seed': None, '_master': '', '_num_worker_replicas': 1, '_task_id': 0, '_log_step_count_steps': 100, '_model_dir': '/var/folders/yd/1rlyjfk975d3bb98d7_nyt740000gn/T/tmpOkepMC', '_save_summary_steps': 100}\n"
     ]
    }
   ],
   "source": [
    "model = tf.estimator.Estimator(cnn_model_fn)"
   ]
  },
  {
   "cell_type": "code",
   "execution_count": 144,
   "metadata": {
    "collapsed": true
   },
   "outputs": [],
   "source": [
    "input_fn = tf.estimator.inputs.numpy_input_fn(\n",
    "    x={'images': mnist.train.images}, y=mnist.train.labels,\n",
    "    batch_size=batch_size, num_epochs=None, shuffle=True)"
   ]
  },
  {
   "cell_type": "code",
   "execution_count": 145,
   "metadata": {
    "collapsed": false
   },
   "outputs": [
    {
     "name": "stdout",
     "output_type": "stream",
     "text": [
      "INFO:tensorflow:Create CheckpointSaverHook.\n",
      "INFO:tensorflow:Saving checkpoints for 1 into /var/folders/yd/1rlyjfk975d3bb98d7_nyt740000gn/T/tmpOkepMC/model.ckpt.\n",
      "INFO:tensorflow:loss = 2.30638, step = 1\n",
      "INFO:tensorflow:global_step/sec: 7.59427\n",
      "INFO:tensorflow:loss = 0.112845, step = 101 (13.171 sec)\n",
      "INFO:tensorflow:global_step/sec: 7.52085\n",
      "INFO:tensorflow:loss = 0.10263, step = 201 (13.295 sec)\n",
      "INFO:tensorflow:global_step/sec: 8.26299\n",
      "INFO:tensorflow:loss = 0.084625, step = 301 (12.102 sec)\n",
      "INFO:tensorflow:global_step/sec: 8.43335\n",
      "INFO:tensorflow:loss = 0.0516369, step = 401 (11.858 sec)\n",
      "INFO:tensorflow:global_step/sec: 8.48616\n",
      "INFO:tensorflow:loss = 0.024489, step = 501 (11.784 sec)\n",
      "INFO:tensorflow:global_step/sec: 8.47863\n",
      "INFO:tensorflow:loss = 0.0782672, step = 601 (11.794 sec)\n",
      "INFO:tensorflow:global_step/sec: 8.50595\n",
      "INFO:tensorflow:loss = 0.032685, step = 701 (11.757 sec)\n",
      "INFO:tensorflow:global_step/sec: 8.43757\n",
      "INFO:tensorflow:loss = 0.154804, step = 801 (11.852 sec)\n",
      "INFO:tensorflow:global_step/sec: 8.47357\n",
      "INFO:tensorflow:loss = 0.143314, step = 901 (11.801 sec)\n",
      "INFO:tensorflow:global_step/sec: 8.54072\n",
      "INFO:tensorflow:loss = 0.0212437, step = 1001 (11.710 sec)\n",
      "INFO:tensorflow:global_step/sec: 8.57694\n",
      "INFO:tensorflow:loss = 0.0943276, step = 1101 (11.658 sec)\n",
      "INFO:tensorflow:global_step/sec: 8.5096\n",
      "INFO:tensorflow:loss = 0.126239, step = 1201 (11.752 sec)\n",
      "INFO:tensorflow:global_step/sec: 8.512\n",
      "INFO:tensorflow:loss = 0.087019, step = 1301 (11.748 sec)\n",
      "INFO:tensorflow:global_step/sec: 8.27128\n",
      "INFO:tensorflow:loss = 0.136475, step = 1401 (12.090 sec)\n",
      "INFO:tensorflow:global_step/sec: 8.44405\n",
      "INFO:tensorflow:loss = 0.0357852, step = 1501 (11.842 sec)\n",
      "INFO:tensorflow:global_step/sec: 8.48373\n",
      "INFO:tensorflow:loss = 0.00913319, step = 1601 (11.787 sec)\n",
      "INFO:tensorflow:global_step/sec: 8.45578\n",
      "INFO:tensorflow:loss = 0.00958953, step = 1701 (11.826 sec)\n",
      "INFO:tensorflow:global_step/sec: 8.48102\n",
      "INFO:tensorflow:loss = 0.116924, step = 1801 (11.791 sec)\n",
      "INFO:tensorflow:global_step/sec: 8.50821\n",
      "INFO:tensorflow:loss = 0.0138155, step = 1901 (11.754 sec)\n",
      "INFO:tensorflow:Saving checkpoints for 2000 into /var/folders/yd/1rlyjfk975d3bb98d7_nyt740000gn/T/tmpOkepMC/model.ckpt.\n",
      "INFO:tensorflow:Loss for final step: 0.0124613.\n"
     ]
    },
    {
     "data": {
      "text/plain": [
       "<tensorflow.python.estimator.estimator.Estimator at 0x114b1df90>"
      ]
     },
     "execution_count": 145,
     "metadata": {},
     "output_type": "execute_result"
    }
   ],
   "source": [
    "model.train(input_fn, steps=num_steps)"
   ]
  },
  {
   "cell_type": "code",
   "execution_count": 146,
   "metadata": {
    "collapsed": true
   },
   "outputs": [],
   "source": [
    "input_fn = tf.estimator.inputs.numpy_input_fn(\n",
    "    x={'images': mnist.test.images}, y=mnist.test.labels,\n",
    "    batch_size=batch_size, shuffle=False)\n"
   ]
  },
  {
   "cell_type": "code",
   "execution_count": 147,
   "metadata": {
    "collapsed": false
   },
   "outputs": [
    {
     "name": "stdout",
     "output_type": "stream",
     "text": [
      "INFO:tensorflow:Starting evaluation at 2017-12-21-08:15:04\n",
      "INFO:tensorflow:Restoring parameters from /var/folders/yd/1rlyjfk975d3bb98d7_nyt740000gn/T/tmpOkepMC/model.ckpt-2000\n",
      "INFO:tensorflow:Finished evaluation at 2017-12-21-08:15:08\n",
      "INFO:tensorflow:Saving dict for global step 2000: accuracy = 0.9832, global_step = 2000, loss = 0.0667596\n"
     ]
    }
   ],
   "source": [
    "e = model.evaluate(input_fn)"
   ]
  },
  {
   "cell_type": "code",
   "execution_count": 148,
   "metadata": {
    "collapsed": false
   },
   "outputs": [
    {
     "name": "stdout",
     "output_type": "stream",
     "text": [
      "Testing Accuracy: 0.9832\n"
     ]
    }
   ],
   "source": [
    "print(\"Testing Accuracy:\", e['accuracy'])"
   ]
  },
  {
   "cell_type": "code",
   "execution_count": null,
   "metadata": {
    "collapsed": true
   },
   "outputs": [],
   "source": []
  },
  {
   "cell_type": "code",
   "execution_count": null,
   "metadata": {
    "collapsed": true
   },
   "outputs": [],
   "source": []
  },
  {
   "cell_type": "code",
   "execution_count": null,
   "metadata": {
    "collapsed": true
   },
   "outputs": [],
   "source": []
  },
  {
   "cell_type": "code",
   "execution_count": null,
   "metadata": {
    "collapsed": true
   },
   "outputs": [],
   "source": []
  },
  {
   "cell_type": "code",
   "execution_count": null,
   "metadata": {
    "collapsed": true
   },
   "outputs": [],
   "source": []
  },
  {
   "cell_type": "code",
   "execution_count": null,
   "metadata": {
    "collapsed": true
   },
   "outputs": [],
   "source": []
  },
  {
   "cell_type": "code",
   "execution_count": null,
   "metadata": {
    "collapsed": true
   },
   "outputs": [],
   "source": []
  },
  {
   "cell_type": "code",
   "execution_count": null,
   "metadata": {
    "collapsed": true
   },
   "outputs": [],
   "source": []
  },
  {
   "cell_type": "code",
   "execution_count": null,
   "metadata": {
    "collapsed": true
   },
   "outputs": [],
   "source": []
  },
  {
   "cell_type": "code",
   "execution_count": null,
   "metadata": {
    "collapsed": true
   },
   "outputs": [],
   "source": []
  }
 ],
 "metadata": {
  "kernelspec": {
   "display_name": "Python 2",
   "language": "python",
   "name": "python2"
  },
  "language_info": {
   "codemirror_mode": {
    "name": "ipython",
    "version": 2
   },
   "file_extension": ".py",
   "mimetype": "text/x-python",
   "name": "python",
   "nbconvert_exporter": "python",
   "pygments_lexer": "ipython2",
   "version": "2.7.11"
  }
 },
 "nbformat": 4,
 "nbformat_minor": 2
}
